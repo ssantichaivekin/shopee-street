{
 "cells": [
  {
   "cell_type": "code",
   "execution_count": 1,
   "id": "fancy-education",
   "metadata": {},
   "outputs": [],
   "source": [
    "import pandas as pd\n",
    "from sklearn.utils import shuffle"
   ]
  },
  {
   "cell_type": "code",
   "execution_count": 2,
   "id": "assisted-television",
   "metadata": {},
   "outputs": [],
   "source": [
    "RANDOM_SEED = 42\n",
    "DATA_PATH = './scl-2021-ds/train.csv'\n",
    "OUT_TRAIN_SPLIT_PATH = './scl-2021-ds/train_split.csv'\n",
    "OUT_VALID_SPLIT_PATH = './scl-2021-ds/valid_split.csv'"
   ]
  },
  {
   "cell_type": "code",
   "execution_count": 3,
   "id": "stone-proof",
   "metadata": {
    "scrolled": true
   },
   "outputs": [],
   "source": [
    "df = pd.read_csv(DATA_PATH)\n",
    "df = shuffle(df, random_state=RANDOM_SEED)"
   ]
  },
  {
   "cell_type": "code",
   "execution_count": 4,
   "id": "religious-microwave",
   "metadata": {},
   "outputs": [],
   "source": [
    "train_ratio = 0.8\n",
    "train_samples = int(len(df) * train_ratio)"
   ]
  },
  {
   "cell_type": "code",
   "execution_count": 5,
   "id": "finite-geography",
   "metadata": {},
   "outputs": [],
   "source": [
    "df_train = df[:train_samples]\n",
    "df_valid = df[train_samples:]"
   ]
  },
  {
   "cell_type": "code",
   "execution_count": 6,
   "id": "western-missile",
   "metadata": {},
   "outputs": [],
   "source": [
    "df_train.to_csv(OUT_TRAIN_SPLIT_PATH)\n",
    "df_valid.to_csv(OUT_VALID_SPLIT_PATH)"
   ]
  },
  {
   "cell_type": "code",
   "execution_count": null,
   "id": "african-aerospace",
   "metadata": {},
   "outputs": [],
   "source": []
  }
 ],
 "metadata": {
  "kernelspec": {
   "display_name": "Python 3",
   "language": "python",
   "name": "python3"
  },
  "language_info": {
   "codemirror_mode": {
    "name": "ipython",
    "version": 3
   },
   "file_extension": ".py",
   "mimetype": "text/x-python",
   "name": "python",
   "nbconvert_exporter": "python",
   "pygments_lexer": "ipython3",
   "version": "3.8.8"
  }
 },
 "nbformat": 4,
 "nbformat_minor": 5
}
