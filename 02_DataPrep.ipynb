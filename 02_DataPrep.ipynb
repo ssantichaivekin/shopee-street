{
 "cells": [
  {
   "cell_type": "code",
   "execution_count": 32,
   "id": "indoor-surveillance",
   "metadata": {
    "ExecuteTime": {
     "end_time": "2021-03-15T04:11:17.762917Z",
     "start_time": "2021-03-15T04:11:17.760743Z"
    }
   },
   "outputs": [],
   "source": [
    "import numpy as np\n",
    "import pandas as pd\n",
    "from tqdm.notebook import tqdm"
   ]
  },
  {
   "cell_type": "code",
   "execution_count": 16,
   "id": "norwegian-testing",
   "metadata": {
    "ExecuteTime": {
     "end_time": "2021-03-15T04:05:28.132861Z",
     "start_time": "2021-03-15T04:05:28.131131Z"
    }
   },
   "outputs": [],
   "source": [
    "POI_TAG = 0\n",
    "STREET_TAG = 1\n",
    "OTHER_TAG = 2"
   ]
  },
  {
   "cell_type": "code",
   "execution_count": 86,
   "id": "superb-brunei",
   "metadata": {
    "ExecuteTime": {
     "end_time": "2021-03-15T04:20:31.279997Z",
     "start_time": "2021-03-15T04:20:30.996143Z"
    }
   },
   "outputs": [],
   "source": [
    "train_df = pd.read_csv(\"./scl-2021-ds/train.csv\")\n",
    "train_df = train_df.astype(object)\n",
    "train_df['parsed'] = None"
   ]
  },
  {
   "cell_type": "code",
   "execution_count": 88,
   "id": "reflected-output",
   "metadata": {
    "ExecuteTime": {
     "end_time": "2021-03-15T04:20:32.345442Z",
     "start_time": "2021-03-15T04:20:32.343151Z"
    }
   },
   "outputs": [],
   "source": [
    "def to_tokens(string):\n",
    "    string = string.replace(\",\", \" , \")\n",
    "    tokens = string.split()\n",
    "    return tokens"
   ]
  },
  {
   "cell_type": "code",
   "execution_count": 112,
   "id": "solar-century",
   "metadata": {
    "ExecuteTime": {
     "end_time": "2021-03-15T04:40:49.395569Z",
     "start_time": "2021-03-15T04:40:49.388693Z"
    }
   },
   "outputs": [],
   "source": [
    "def EditDistDP(str1, str2):\n",
    "    \"\"\"\n",
    "    From https://www.geeksforgeeks.org/edit-distance-dp-5/\n",
    "    \"\"\"\n",
    "    len1 = len(str1)\n",
    "    len2 = len(str2)\n",
    " \n",
    "    # Create a DP array to memoize result\n",
    "    # of previous computations\n",
    "    DP = [[0 for i in range(len1 + 1)] \n",
    "             for j in range(2)];\n",
    " \n",
    "    # Base condition when second String\n",
    "    # is empty then we remove all characters\n",
    "    for i in range(0, len1 + 1):\n",
    "        DP[0][i] = i\n",
    " \n",
    "    # Start filling the DP\n",
    "    # This loop run for every\n",
    "    # character in second String\n",
    "    for i in range(1, len2 + 1):\n",
    "         \n",
    "        # This loop compares the char from\n",
    "        # second String with first String\n",
    "        # characters\n",
    "        for j in range(0, len1 + 1):\n",
    " \n",
    "            # If first String is empty then\n",
    "            # we have to perform add character\n",
    "            # operation to get second String\n",
    "            if (j == 0):\n",
    "                DP[i % 2][j] = i\n",
    " \n",
    "            # If character from both String\n",
    "            # is same then we do not perform any\n",
    "            # operation . here i % 2 is for bound\n",
    "            # the row number.\n",
    "            elif(str1[j - 1] == str2[i-1]):\n",
    "                DP[i % 2][j] = DP[(i - 1) % 2][j - 1]\n",
    "             \n",
    "            # If character from both String is\n",
    "            # not same then we take the minimum\n",
    "            # from three specified operation\n",
    "            else:\n",
    "                DP[i%2][j] = min(\n",
    "                    1 + DP[(i-1)%2][j], # insertion cost = 1\n",
    "                    100 + DP[i%2][j-1], # deletion cost = 100\n",
    "                    100 + DP[(i-1)%2][j-1], # substitution cost = 100\n",
    "                )\n",
    "             \n",
    "    # After complete fill the DP array\n",
    "    # if the len2 is even then we end\n",
    "    # up in the 0th row else we end up\n",
    "    # in the 1th row so we take len2 % 2\n",
    "    # to get row\n",
    "    return DP[len2 % 2][len1]"
   ]
  },
  {
   "cell_type": "code",
   "execution_count": 116,
   "id": "dutch-desktop",
   "metadata": {
    "ExecuteTime": {
     "end_time": "2021-03-15T04:44:59.141848Z",
     "start_time": "2021-03-15T04:44:59.138852Z"
    }
   },
   "outputs": [],
   "source": [
    "def find_exact(base_tokens, pattern_tokens):\n",
    "    for start in range(len(base_tokens)):\n",
    "        end = start + tokens_length\n",
    "        if end > len(pattern_tokens):\n",
    "            return -1\n",
    "        if base_tokens[start:end] == pattern_tokens:\n",
    "            return start\n",
    "    return -1"
   ]
  },
  {
   "cell_type": "code",
   "execution_count": 132,
   "id": "valuable-commercial",
   "metadata": {
    "ExecuteTime": {
     "end_time": "2021-03-15T04:58:08.977669Z",
     "start_time": "2021-03-15T04:58:08.973854Z"
    }
   },
   "outputs": [],
   "source": [
    "def find_almost_exact(base_tokens, pattern_tokens):\n",
    "    # Almost match\n",
    "    best_dist = 1e9\n",
    "    best_start = -1\n",
    "    for start in range(len(base_tokens)):\n",
    "        end = start + len(pattern_tokens)\n",
    "        if end > len(base_tokens):\n",
    "            break\n",
    "\n",
    "        dist = EditDistDP(' '.join(base_tokens[start:end]), ' '.join(pattern_tokens))\n",
    "        if dist < best_dist:\n",
    "            best_dist = dist\n",
    "            best_start = start\n",
    "    return best_start"
   ]
  },
  {
   "cell_type": "code",
   "execution_count": 141,
   "id": "apparent-attention",
   "metadata": {
    "ExecuteTime": {
     "end_time": "2021-03-15T06:12:54.206232Z",
     "start_time": "2021-03-15T06:09:43.780882Z"
    },
    "scrolled": true
   },
   "outputs": [
    {
     "data": {
      "application/vnd.jupyter.widget-view+json": {
       "model_id": "f191061f55154bc1873bb6c78c02a295",
       "version_major": 2,
       "version_minor": 0
      },
      "text/plain": [
       "  0%|          | 0/300000 [00:00<?, ?it/s]"
      ]
     },
     "metadata": {},
     "output_type": "display_data"
    }
   ],
   "source": [
    "for idx, row in tqdm(train_df.iterrows(), total=train_df.shape[0]):\n",
    "    raw_address = row['raw_address']\n",
    "    POI, street = row['POI/street'].split('/')\n",
    "    \n",
    "    raw_tokens = to_tokens(raw_address)\n",
    "    POI_tokens = to_tokens(POI)\n",
    "    street_tokens = to_tokens(street)\n",
    "    \n",
    "    outputs = [(x, OTHER_TAG, x) for x in raw_tokens]\n",
    "\n",
    "    if len(POI_tokens) == 0 and len(street_tokens) == 0:\n",
    "        train_df.at[idx, 'parsed'] = outputs\n",
    "    elif len(POI_tokens) == 0:\n",
    "        exact_loc = find_exact(raw_tokens, street_tokens)\n",
    "        if exact_loc != -1:\n",
    "            start, end = exact_loc, exact_loc + len(street_tokens)\n",
    "            for x in range(start, end):\n",
    "                outputs[x] = (outputs[x][0], STREET_TAG, street_tokens[x-start])\n",
    "        else:\n",
    "            almost_exact_loc = find_almost_exact(raw_tokens, street_tokens)\n",
    "            if almost_exact_loc != -1:\n",
    "                start, end = almost_exact_loc, almost_exact_loc + len(street_tokens)\n",
    "                for x in range(start, end):\n",
    "                    outputs[x] = (outputs[x][0], STREET_TAG, street_tokens[x-start])\n",
    "            else:\n",
    "                outputs = None\n",
    "            \n",
    "        train_df.at[idx, 'parsed'] = outputs\n",
    "    elif len(street_tokens) == 0:\n",
    "        exact_loc = find_exact(raw_tokens, POI_tokens)\n",
    "        if exact_loc != -1:\n",
    "            start, end = exact_loc, exact_loc + len(POI_tokens)\n",
    "            for x in range(start, end):\n",
    "                outputs[x] = (outputs[x][0], POI_TAG, POI_tokens[x-start])\n",
    "        else:\n",
    "            almost_exact_loc = find_almost_exact(raw_tokens, POI_tokens)\n",
    "            if almost_exact_loc != -1:\n",
    "                start, end = almost_exact_loc, almost_exact_loc + len(POI_tokens)\n",
    "                for x in range(start, end):\n",
    "                    outputs[x] = (outputs[x][0], POI_TAG, POI_tokens[x-start])   \n",
    "            else:\n",
    "                outputs = None\n",
    "                \n",
    "        train_df.at[idx, 'parsed'] = outputs\n",
    "    else:\n",
    "        # Do Street first\n",
    "        exact_loc = find_exact(raw_tokens, street_tokens)\n",
    "        if exact_loc != -1:\n",
    "            start, end = exact_loc, exact_loc + len(street_tokens)\n",
    "            for x in range(start, end):\n",
    "                outputs[x] = (outputs[x][0], STREET_TAG, street_tokens[x-start])\n",
    "        else:\n",
    "            almost_exact_loc = find_almost_exact(raw_tokens, street_tokens)\n",
    "            if almost_exact_loc != -1:\n",
    "                start, end = almost_exact_loc, almost_exact_loc + len(street_tokens)\n",
    "                for x in range(start, end):\n",
    "                    outputs[x] = (outputs[x][0], STREET_TAG, street_tokens[x-start])\n",
    "            else:\n",
    "                outputs = None\n",
    "        \n",
    "        if outputs is not None:\n",
    "            exact_loc = find_exact(raw_tokens, POI_tokens)\n",
    "            if exact_loc != -1:\n",
    "                start, end = exact_loc, exact_loc + len(POI_tokens)\n",
    "                for x in range(start, end):\n",
    "                    outputs[x] = (outputs[x][0], POI_TAG, POI_tokens[x-start])\n",
    "            else:\n",
    "                almost_exact_loc = find_almost_exact(raw_tokens, POI_tokens)\n",
    "                if almost_exact_loc != -1:\n",
    "                    start, end = almost_exact_loc, almost_exact_loc + len(POI_tokens)\n",
    "                    for x in range(start, end):\n",
    "                        outputs[x] = (outputs[x][0], POI_TAG, POI_tokens[x-start])   \n",
    "                else:\n",
    "                    outputs = None\n",
    "\n",
    "        train_df.at[idx, 'parsed'] = outputs"
   ]
  },
  {
   "cell_type": "code",
   "execution_count": 142,
   "id": "auburn-madison",
   "metadata": {
    "ExecuteTime": {
     "end_time": "2021-03-15T06:12:58.624994Z",
     "start_time": "2021-03-15T06:12:56.629684Z"
    }
   },
   "outputs": [],
   "source": [
    "train_df.to_csv(\"./scl-2021-ds/parsed_train.csv\", index=False, index_label=False)"
   ]
  },
  {
   "cell_type": "code",
   "execution_count": 143,
   "id": "vulnerable-revolution",
   "metadata": {
    "ExecuteTime": {
     "end_time": "2021-03-15T06:12:59.252499Z",
     "start_time": "2021-03-15T06:12:59.222737Z"
    }
   },
   "outputs": [
    {
     "data": {
      "text/html": [
       "<div>\n",
       "<style scoped>\n",
       "    .dataframe tbody tr th:only-of-type {\n",
       "        vertical-align: middle;\n",
       "    }\n",
       "\n",
       "    .dataframe tbody tr th {\n",
       "        vertical-align: top;\n",
       "    }\n",
       "\n",
       "    .dataframe thead th {\n",
       "        text-align: right;\n",
       "    }\n",
       "</style>\n",
       "<table border=\"1\" class=\"dataframe\">\n",
       "  <thead>\n",
       "    <tr style=\"text-align: right;\">\n",
       "      <th></th>\n",
       "      <th>id</th>\n",
       "      <th>raw_address</th>\n",
       "      <th>POI/street</th>\n",
       "      <th>parsed</th>\n",
       "    </tr>\n",
       "  </thead>\n",
       "  <tbody>\n",
       "    <tr>\n",
       "      <th>0</th>\n",
       "      <td>0</td>\n",
       "      <td>jl kapuk timur delta sili iii lippo cika 11 a ...</td>\n",
       "      <td>/jl kapuk timur delta sili iii lippo cika</td>\n",
       "      <td>[(jl, 1, jl), (kapuk, 1, kapuk), (timur, 1, ti...</td>\n",
       "    </tr>\n",
       "    <tr>\n",
       "      <th>1</th>\n",
       "      <td>1</td>\n",
       "      <td>aye, jati sampurna</td>\n",
       "      <td>/</td>\n",
       "      <td>[(aye, 2, aye), (,, 2, ,), (jati, 2, jati), (s...</td>\n",
       "    </tr>\n",
       "    <tr>\n",
       "      <th>2</th>\n",
       "      <td>2</td>\n",
       "      <td>setu siung 119 rt 5 1 13880 cipayung</td>\n",
       "      <td>/siung</td>\n",
       "      <td>[(setu, 2, setu), (siung, 1, siung), (119, 2, ...</td>\n",
       "    </tr>\n",
       "    <tr>\n",
       "      <th>3</th>\n",
       "      <td>3</td>\n",
       "      <td>toko dita, kertosono</td>\n",
       "      <td>toko dita/</td>\n",
       "      <td>[(toko, 0, toko), (dita, 0, dita), (,, 2, ,), ...</td>\n",
       "    </tr>\n",
       "    <tr>\n",
       "      <th>4</th>\n",
       "      <td>4</td>\n",
       "      <td>jl. orde baru</td>\n",
       "      <td>/jl. orde baru</td>\n",
       "      <td>[(jl., 1, jl.), (orde, 1, orde), (baru, 1, baru)]</td>\n",
       "    </tr>\n",
       "    <tr>\n",
       "      <th>...</th>\n",
       "      <td>...</td>\n",
       "      <td>...</td>\n",
       "      <td>...</td>\n",
       "      <td>...</td>\n",
       "    </tr>\n",
       "    <tr>\n",
       "      <th>299995</th>\n",
       "      <td>299995</td>\n",
       "      <td>jend ahmad yani 331 kertasari ciamis</td>\n",
       "      <td>/jend ahmad yani</td>\n",
       "      <td>[(jend, 1, jend), (ahmad, 1, ahmad), (yani, 1,...</td>\n",
       "    </tr>\n",
       "    <tr>\n",
       "      <th>299996</th>\n",
       "      <td>299996</td>\n",
       "      <td>raya cila kko, cilandak timur kel.</td>\n",
       "      <td>/raya cila kko</td>\n",
       "      <td>[(raya, 1, raya), (cila, 1, cila), (kko, 1, kk...</td>\n",
       "    </tr>\n",
       "    <tr>\n",
       "      <th>299997</th>\n",
       "      <td>299997</td>\n",
       "      <td>tanjung gusta jl. yaya 2 no 17</td>\n",
       "      <td>/</td>\n",
       "      <td>[(tanjung, 2, tanjung), (gusta, 2, gusta), (jl...</td>\n",
       "    </tr>\n",
       "    <tr>\n",
       "      <th>299998</th>\n",
       "      <td>299998</td>\n",
       "      <td>jalan cipadu jaya taman asri gang bijaksana 3 ...</td>\n",
       "      <td>taman asri/</td>\n",
       "      <td>[(jalan, 2, jalan), (cipadu, 2, cipadu), (jaya...</td>\n",
       "    </tr>\n",
       "    <tr>\n",
       "      <th>299999</th>\n",
       "      <td>299999</td>\n",
       "      <td>jaya maspion permata blok beryl b2  no.58</td>\n",
       "      <td>jaya maspion permata/</td>\n",
       "      <td>[(jaya, 0, jaya), (maspion, 0, maspion), (perm...</td>\n",
       "    </tr>\n",
       "  </tbody>\n",
       "</table>\n",
       "<p>300000 rows × 4 columns</p>\n",
       "</div>"
      ],
      "text/plain": [
       "            id                                        raw_address  \\\n",
       "0            0  jl kapuk timur delta sili iii lippo cika 11 a ...   \n",
       "1            1                                 aye, jati sampurna   \n",
       "2            2               setu siung 119 rt 5 1 13880 cipayung   \n",
       "3            3                               toko dita, kertosono   \n",
       "4            4                                      jl. orde baru   \n",
       "...        ...                                                ...   \n",
       "299995  299995               jend ahmad yani 331 kertasari ciamis   \n",
       "299996  299996                 raya cila kko, cilandak timur kel.   \n",
       "299997  299997                     tanjung gusta jl. yaya 2 no 17   \n",
       "299998  299998  jalan cipadu jaya taman asri gang bijaksana 3 ...   \n",
       "299999  299999          jaya maspion permata blok beryl b2  no.58   \n",
       "\n",
       "                                       POI/street  \\\n",
       "0       /jl kapuk timur delta sili iii lippo cika   \n",
       "1                                               /   \n",
       "2                                          /siung   \n",
       "3                                      toko dita/   \n",
       "4                                  /jl. orde baru   \n",
       "...                                           ...   \n",
       "299995                           /jend ahmad yani   \n",
       "299996                             /raya cila kko   \n",
       "299997                                          /   \n",
       "299998                                taman asri/   \n",
       "299999                      jaya maspion permata/   \n",
       "\n",
       "                                                   parsed  \n",
       "0       [(jl, 1, jl), (kapuk, 1, kapuk), (timur, 1, ti...  \n",
       "1       [(aye, 2, aye), (,, 2, ,), (jati, 2, jati), (s...  \n",
       "2       [(setu, 2, setu), (siung, 1, siung), (119, 2, ...  \n",
       "3       [(toko, 0, toko), (dita, 0, dita), (,, 2, ,), ...  \n",
       "4       [(jl., 1, jl.), (orde, 1, orde), (baru, 1, baru)]  \n",
       "...                                                   ...  \n",
       "299995  [(jend, 1, jend), (ahmad, 1, ahmad), (yani, 1,...  \n",
       "299996  [(raya, 1, raya), (cila, 1, cila), (kko, 1, kk...  \n",
       "299997  [(tanjung, 2, tanjung), (gusta, 2, gusta), (jl...  \n",
       "299998  [(jalan, 2, jalan), (cipadu, 2, cipadu), (jaya...  \n",
       "299999  [(jaya, 0, jaya), (maspion, 0, maspion), (perm...  \n",
       "\n",
       "[300000 rows x 4 columns]"
      ]
     },
     "execution_count": 143,
     "metadata": {},
     "output_type": "execute_result"
    }
   ],
   "source": [
    "train_df"
   ]
  },
  {
   "cell_type": "code",
   "execution_count": null,
   "id": "featured-singer",
   "metadata": {},
   "outputs": [],
   "source": []
  }
 ],
 "metadata": {
  "kernelspec": {
   "display_name": "Python 3",
   "language": "python",
   "name": "python3"
  },
  "language_info": {
   "codemirror_mode": {
    "name": "ipython",
    "version": 3
   },
   "file_extension": ".py",
   "mimetype": "text/x-python",
   "name": "python",
   "nbconvert_exporter": "python",
   "pygments_lexer": "ipython3",
   "version": "3.8.8"
  },
  "latex_envs": {
   "LaTeX_envs_menu_present": true,
   "autoclose": false,
   "autocomplete": true,
   "bibliofile": "biblio.bib",
   "cite_by": "apalike",
   "current_citInitial": 1,
   "eqLabelWithNumbers": true,
   "eqNumInitial": 1,
   "hotkeys": {
    "equation": "Ctrl-E",
    "itemize": "Ctrl-I"
   },
   "labels_anchors": false,
   "latex_user_defs": false,
   "report_style_numbering": false,
   "user_envs_cfg": false
  },
  "toc": {
   "base_numbering": 1,
   "nav_menu": {},
   "number_sections": true,
   "sideBar": true,
   "skip_h1_title": false,
   "title_cell": "Table of Contents",
   "title_sidebar": "Contents",
   "toc_cell": false,
   "toc_position": {},
   "toc_section_display": true,
   "toc_window_display": false
  }
 },
 "nbformat": 4,
 "nbformat_minor": 5
}
