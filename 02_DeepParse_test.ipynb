{
 "cells": [
  {
   "cell_type": "code",
   "execution_count": 41,
   "id": "pharmaceutical-triumph",
   "metadata": {},
   "outputs": [],
   "source": [
    "from pprint import pprint as print\n",
    "import pandas as pd\n",
    "from tqdm import tqdm_notebook as tqdm\n",
    "from deepparse.parser import AddressParser"
   ]
  },
  {
   "cell_type": "code",
   "execution_count": 2,
   "id": "sustainable-mills",
   "metadata": {},
   "outputs": [],
   "source": [
    "TRAIN_SPLIT_PATH = './scl-2021-ds/train_split.csv'"
   ]
  },
  {
   "cell_type": "code",
   "execution_count": 5,
   "id": "second-trading",
   "metadata": {},
   "outputs": [],
   "source": [
    "df_train = pd.read_csv(TRAIN_SPLIT_PATH)"
   ]
  },
  {
   "cell_type": "code",
   "execution_count": 4,
   "id": "broken-caution",
   "metadata": {},
   "outputs": [
    {
     "name": "stdout",
     "output_type": "stream",
     "text": [
      "Loading the embeddings model\n",
      "downloading https://nlp.h-its.org/bpemb/multi/multi.wiki.bpe.vs100000.model\n"
     ]
    },
    {
     "name": "stderr",
     "output_type": "stream",
     "text": [
      "100%|██████████| 1965223/1965223 [00:01<00:00, 1182357.17B/s]\n"
     ]
    },
    {
     "name": "stdout",
     "output_type": "stream",
     "text": [
      "downloading https://nlp.h-its.org/bpemb/multi/multi.wiki.bpe.vs100000.d300.w2v.bin.tar.gz\n"
     ]
    },
    {
     "name": "stderr",
     "output_type": "stream",
     "text": [
      "100%|██████████| 112202964/112202964 [00:59<00:00, 1885401.59B/s]\n"
     ]
    },
    {
     "name": "stdout",
     "output_type": "stream",
     "text": [
      "Downloading the weights for the network bpemb.\n"
     ]
    }
   ],
   "source": [
    "address_parser = AddressParser(model_type=\"bpemb\", device=\"cpu\")"
   ]
  },
  {
   "cell_type": "code",
   "execution_count": 45,
   "id": "fossil-setup",
   "metadata": {},
   "outputs": [
    {
     "data": {
      "application/vnd.jupyter.widget-view+json": {
       "model_id": "3b8c7f0937b94f40bf8ee433dd44c96a",
       "version_major": 2,
       "version_minor": 0
      },
      "text/plain": [
       "0it [00:00, ?it/s]"
      ]
     },
     "metadata": {},
     "output_type": "display_data"
    },
    {
     "name": "stdout",
     "output_type": "stream",
     "text": [
      "'hadi raya kre, no 29 balaraja | hadi | raya kre'\n",
      "{'address_parsed_components': [('hadi', 'StreetName'),\n",
      "                               ('raya', 'StreetName'),\n",
      "                               ('kre,', 'StreetName'),\n",
      "                               ('no', 'StreetNumber'),\n",
      "                               ('29', 'StreetNumber'),\n",
      "                               ('balaraja', 'Municipality')],\n",
      " 'general_delivery': None,\n",
      " 'municipality': 'balaraja',\n",
      " 'orientation': None,\n",
      " 'postal_code': None,\n",
      " 'province': None,\n",
      " 'raw_address': 'hadi raya kre, no 29 balaraja',\n",
      " 'street_name': 'hadi raya kre,',\n",
      " 'street_number': 'no 29',\n",
      " 'unit': None}\n",
      "'\\n\\n\\n\\n'\n",
      "('pemberdayaan kesejahteraan kelu sudajaya hilir, sudajaya hilir baros | '\n",
      " 'pemberdayaan kesejahteraan keluarga sudajaya hilir | ')\n",
      "{'address_parsed_components': [('pemberdayaan', 'StreetName'),\n",
      "                               ('kesejahteraan', 'StreetName'),\n",
      "                               ('kelu', 'StreetName'),\n",
      "                               ('sudajaya', 'StreetName'),\n",
      "                               ('hilir,', 'StreetName'),\n",
      "                               ('sudajaya', 'StreetName'),\n",
      "                               ('hilir', 'StreetName'),\n",
      "                               ('baros', 'StreetName')],\n",
      " 'general_delivery': None,\n",
      " 'municipality': None,\n",
      " 'orientation': None,\n",
      " 'postal_code': None,\n",
      " 'province': None,\n",
      " 'raw_address': 'pemberdayaan kesejahteraan kelu sudajaya hilir, sudajaya '\n",
      "                'hilir baros',\n",
      " 'street_name': 'pemberdayaan kesejahteraan kelu sudajaya hilir, sudajaya '\n",
      "                'hilir baros',\n",
      " 'street_number': None,\n",
      " 'unit': None}\n",
      "'\\n\\n\\n\\n'\n",
      "'merak 11, no 10 cikarang utara |  | merak 11'\n",
      "{'address_parsed_components': [('merak', 'StreetName'),\n",
      "                               ('11,', 'StreetNumber'),\n",
      "                               ('no', 'StreetNumber'),\n",
      "                               ('10', 'PostalCode'),\n",
      "                               ('cikarang', 'Municipality'),\n",
      "                               ('utara', 'Province')],\n",
      " 'general_delivery': None,\n",
      " 'municipality': 'cikarang',\n",
      " 'orientation': None,\n",
      " 'postal_code': '10',\n",
      " 'province': 'utara',\n",
      " 'raw_address': 'merak 11, no 10 cikarang utara',\n",
      " 'street_name': 'merak',\n",
      " 'street_number': '11, no',\n",
      " 'unit': None}\n",
      "'\\n\\n\\n\\n'\n",
      "('hotel fairmont jl asia afrika 8 gelora bung karno | bung karno | jl asia '\n",
      " 'afrika')\n",
      "{'address_parsed_components': [('hotel', 'StreetName'),\n",
      "                               ('fairmont', 'StreetName'),\n",
      "                               ('jl', 'StreetName'),\n",
      "                               ('asia', 'StreetName'),\n",
      "                               ('afrika', 'StreetName'),\n",
      "                               ('8', 'StreetNumber'),\n",
      "                               ('gelora', 'Municipality'),\n",
      "                               ('bung', 'Municipality'),\n",
      "                               ('karno', 'Municipality')],\n",
      " 'general_delivery': None,\n",
      " 'municipality': 'gelora bung karno',\n",
      " 'orientation': None,\n",
      " 'postal_code': None,\n",
      " 'province': None,\n",
      " 'raw_address': 'hotel fairmont jl asia afrika 8 gelora bung karno',\n",
      " 'street_name': 'hotel fairmont jl asia afrika',\n",
      " 'street_number': '8',\n",
      " 'unit': None}\n",
      "'\\n\\n\\n\\n'\n",
      "'kar anyar d, 4 karang anyar rt 15 1 sawah besar |  | kar anyar d'\n",
      "{'address_parsed_components': [('kar', 'Unit'),\n",
      "                               ('anyar', 'Unit'),\n",
      "                               ('d,', 'Unit'),\n",
      "                               ('4', 'StreetNumber'),\n",
      "                               ('karang', 'StreetNumber'),\n",
      "                               ('anyar', 'StreetName'),\n",
      "                               ('rt', 'StreetName'),\n",
      "                               ('15', 'StreetName'),\n",
      "                               ('1', 'PostalCode'),\n",
      "                               ('sawah', 'Municipality'),\n",
      "                               ('besar', 'Province')],\n",
      " 'general_delivery': None,\n",
      " 'municipality': 'sawah',\n",
      " 'orientation': None,\n",
      " 'postal_code': '1',\n",
      " 'province': 'besar',\n",
      " 'raw_address': 'kar anyar d, 4 karang anyar rt 15 1 sawah besar',\n",
      " 'street_name': 'anyar rt 15',\n",
      " 'street_number': '4 karang',\n",
      " 'unit': 'kar anyar d,'}\n",
      "'\\n\\n\\n\\n'\n",
      "'roban gg. bakti 135 singkawang tengah |  | gg. bakti'\n",
      "{'address_parsed_components': [('roban', 'StreetName'),\n",
      "                               ('gg.', 'StreetName'),\n",
      "                               ('bakti', 'StreetName'),\n",
      "                               ('135', 'StreetNumber'),\n",
      "                               ('singkawang', 'Municipality'),\n",
      "                               ('tengah', 'Municipality')],\n",
      " 'general_delivery': None,\n",
      " 'municipality': 'singkawang tengah',\n",
      " 'orientation': None,\n",
      " 'postal_code': None,\n",
      " 'province': None,\n",
      " 'raw_address': 'roban gg. bakti 135 singkawang tengah',\n",
      " 'street_name': 'roban gg. bakti',\n",
      " 'street_number': '135',\n",
      " 'unit': None}\n",
      "'\\n\\n\\n\\n'\n",
      "('toko kopi sinar baru, ikan lumba lumba pesawahan | toko kopi sinar baru | '\n",
      " 'ikan lumba lumba')\n",
      "{'address_parsed_components': [('toko', 'StreetName'),\n",
      "                               ('kopi', 'StreetName'),\n",
      "                               ('sinar', 'StreetName'),\n",
      "                               ('baru,', 'Municipality'),\n",
      "                               ('ikan', 'Municipality'),\n",
      "                               ('lumba', 'Municipality'),\n",
      "                               ('lumba', 'Municipality'),\n",
      "                               ('pesawahan', 'Province')],\n",
      " 'general_delivery': None,\n",
      " 'municipality': 'baru, ikan lumba lumba',\n",
      " 'orientation': None,\n",
      " 'postal_code': None,\n",
      " 'province': 'pesawahan',\n",
      " 'raw_address': 'toko kopi sinar baru, ikan lumba lumba pesawahan',\n",
      " 'street_name': 'toko kopi sinar',\n",
      " 'street_number': None,\n",
      " 'unit': None}\n",
      "'\\n\\n\\n\\n'\n"
     ]
    }
   ],
   "source": [
    "for row in tqdm(df_train.iterrows()):\n",
    "    raw_address = row[1]['raw_address']\n",
    "    target_POI, target_street = row[1]['POI/street'].split('/')\n",
    "    out = address_parser(raw_address)\n",
    "    \n",
    "    print(f\"{raw_address} | {target_POI} | {target_street}\")\n",
    "    print(out.__dict__)\n",
    "    print(\"\\n\\n\\n\\n\")\n",
    "    if row[0] == 6:\n",
    "        break "
   ]
  },
  {
   "cell_type": "code",
   "execution_count": 47,
   "id": "outstanding-zambia",
   "metadata": {},
   "outputs": [
    {
     "data": {
      "text/plain": [
       "'ikan lumba lumba'"
      ]
     },
     "execution_count": 47,
     "metadata": {},
     "output_type": "execute_result"
    }
   ],
   "source": [
    "target_street"
   ]
  },
  {
   "cell_type": "code",
   "execution_count": 48,
   "id": "rubber-token",
   "metadata": {},
   "outputs": [
    {
     "data": {
      "text/plain": [
       "'toko kopi sinar baru'"
      ]
     },
     "execution_count": 48,
     "metadata": {},
     "output_type": "execute_result"
    }
   ],
   "source": [
    "target_POI"
   ]
  },
  {
   "cell_type": "code",
   "execution_count": 49,
   "id": "looking-livestock",
   "metadata": {},
   "outputs": [
    {
     "data": {
      "text/plain": [
       "{'raw_address': 'toko kopi sinar baru, ikan lumba lumba pesawahan',\n",
       " 'address_parsed_components': [('toko', 'StreetName'),\n",
       "  ('kopi', 'StreetName'),\n",
       "  ('sinar', 'StreetName'),\n",
       "  ('baru,', 'Municipality'),\n",
       "  ('ikan', 'Municipality'),\n",
       "  ('lumba', 'Municipality'),\n",
       "  ('lumba', 'Municipality'),\n",
       "  ('pesawahan', 'Province')],\n",
       " 'street_number': None,\n",
       " 'unit': None,\n",
       " 'street_name': 'toko kopi sinar',\n",
       " 'orientation': None,\n",
       " 'municipality': 'baru, ikan lumba lumba',\n",
       " 'province': 'pesawahan',\n",
       " 'postal_code': None,\n",
       " 'general_delivery': None}"
      ]
     },
     "execution_count": 49,
     "metadata": {},
     "output_type": "execute_result"
    }
   ],
   "source": [
    "out.__dict__\n"
   ]
  },
  {
   "cell_type": "code",
   "execution_count": null,
   "id": "weekly-meditation",
   "metadata": {},
   "outputs": [],
   "source": []
  }
 ],
 "metadata": {
  "kernelspec": {
   "display_name": "Python 3",
   "language": "python",
   "name": "python3"
  },
  "language_info": {
   "codemirror_mode": {
    "name": "ipython",
    "version": 3
   },
   "file_extension": ".py",
   "mimetype": "text/x-python",
   "name": "python",
   "nbconvert_exporter": "python",
   "pygments_lexer": "ipython3",
   "version": "3.8.8"
  }
 },
 "nbformat": 4,
 "nbformat_minor": 5
}
