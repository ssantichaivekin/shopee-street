{
 "cells": [
  {
   "cell_type": "code",
   "execution_count": 1,
   "id": "norwegian-housing",
   "metadata": {
    "ExecuteTime": {
     "end_time": "2021-03-14T13:43:30.231374Z",
     "start_time": "2021-03-14T13:43:29.768836Z"
    }
   },
   "outputs": [],
   "source": [
    "import warnings\n",
    "import random\n",
    "from ast import literal_eval\n",
    "from typing import Dict, Union, Any, List, Tuple\n",
    "import pandas as pd\n",
    "import numpy as np\n",
    "from numpy.core.multiarray import ndarray\n",
    "from tqdm.notebook import tqdm\n",
    "from bpemb import BPEmb\n",
    "import torch\n",
    "import torch.nn as nn\n",
    "import torch.optim as optim\n",
    "from torch.nn.utils.rnn import pad_sequence, pack_padded_sequence, pad_packed_sequence\n",
    "from torch.utils.tensorboard import SummaryWriter"
   ]
  },
  {
   "cell_type": "code",
   "execution_count": 2,
   "id": "metropolitan-penny",
   "metadata": {
    "ExecuteTime": {
     "end_time": "2021-03-14T13:43:30.769183Z",
     "start_time": "2021-03-14T13:43:30.767293Z"
    }
   },
   "outputs": [],
   "source": [
    "TRAIN_CSV_PATH = './santi/deepparse_clean_only_train_split.csv'"
   ]
  },
  {
   "cell_type": "code",
   "execution_count": 3,
   "id": "informative-european",
   "metadata": {
    "ExecuteTime": {
     "end_time": "2021-03-14T13:43:31.127952Z",
     "start_time": "2021-03-14T13:43:31.125718Z"
    }
   },
   "outputs": [],
   "source": [
    "tags = {\n",
    "    \"PointOfInterest\": 0,\n",
    "    \"Street\": 1,\n",
    "    \"Other\": 2,\n",
    "    \"EOS\": 3,\n",
    "}"
   ]
  },
  {
   "cell_type": "markdown",
   "id": "comparable-denver",
   "metadata": {},
   "source": [
    "## Tags Coverter\n",
    "\n",
    "`TagsCoverter` is a utility class for converting between tag ID and tag name."
   ]
  },
  {
   "cell_type": "code",
   "execution_count": 4,
   "id": "worldwide-species",
   "metadata": {
    "ExecuteTime": {
     "end_time": "2021-03-14T13:43:31.566528Z",
     "start_time": "2021-03-14T13:43:31.561634Z"
    }
   },
   "outputs": [],
   "source": [
    "# https://github.com/GRAAL-Research/deepparse/blob/0951ffa18b0838fbd536d8d607695f1667d9939a/deepparse/converter/target_converter.py\n",
    "\n",
    "class TagsConverter:\n",
    "    \"\"\"\n",
    "    Class to define logic of tag to idx conversion and vice versa.\n",
    "    Args:\n",
    "        tags_to_idx (Dict): A dictionary where the keys are the tags (e.g. StreetNumber) and the values are\n",
    "            the indexes (int) (e.g. 1).\n",
    "    \"\"\"\n",
    "\n",
    "    def __init__(self, tags_to_idx: Dict) -> None:\n",
    "        self.tags_to_idx = tags_to_idx\n",
    "        self.idx_to_tags = {v: k for k, v in tags_to_idx.items()}\n",
    "\n",
    "    def __call__(self, key: Union[str, int]) -> int:\n",
    "        \"\"\"\n",
    "        If str convert from a tag to idx and if int convert from a idx to a tag using the convert table.\n",
    "        \"\"\"\n",
    "        if isinstance(key, str):\n",
    "            return self.tags_to_idx[key]\n",
    "        return self.idx_to_tags[key]"
   ]
  },
  {
   "cell_type": "code",
   "execution_count": 5,
   "id": "supreme-burden",
   "metadata": {
    "ExecuteTime": {
     "end_time": "2021-03-14T13:43:31.797013Z",
     "start_time": "2021-03-14T13:43:31.794998Z"
    }
   },
   "outputs": [],
   "source": [
    "tags_converter = TagsConverter(tags)"
   ]
  },
  {
   "cell_type": "code",
   "execution_count": 6,
   "id": "incomplete-sculpture",
   "metadata": {
    "ExecuteTime": {
     "end_time": "2021-03-14T13:43:32.034350Z",
     "start_time": "2021-03-14T13:43:32.025668Z"
    }
   },
   "outputs": [
    {
     "data": {
      "text/plain": [
       "(0, 'PointOfInterest')"
      ]
     },
     "execution_count": 6,
     "metadata": {},
     "output_type": "execute_result"
    }
   ],
   "source": [
    "tags_converter('PointOfInterest'), tags_converter(0)"
   ]
  },
  {
   "cell_type": "markdown",
   "id": "burning-mozambique",
   "metadata": {},
   "source": [
    "## Token -> Subword Embeddings\n",
    "\n",
    "`BPEmb` is a way to convert between string to subword embeddings. In this model, we have $10^5$ subwords and each subword has an embedding of dimension 300."
   ]
  },
  {
   "cell_type": "code",
   "execution_count": 7,
   "id": "social-agency",
   "metadata": {
    "ExecuteTime": {
     "end_time": "2021-03-14T13:43:33.305764Z",
     "start_time": "2021-03-14T13:43:32.497852Z"
    }
   },
   "outputs": [],
   "source": [
    "emb_model = BPEmb(lang=\"multi\", vs=100000, dim=300)"
   ]
  },
  {
   "cell_type": "code",
   "execution_count": 8,
   "id": "coupled-appeal",
   "metadata": {
    "ExecuteTime": {
     "end_time": "2021-03-14T13:43:33.309532Z",
     "start_time": "2021-03-14T13:43:33.306865Z"
    }
   },
   "outputs": [
    {
     "data": {
      "text/plain": [
       "['▁h', 'ello', '▁ave', '▁fast']"
      ]
     },
     "execution_count": 8,
     "metadata": {},
     "output_type": "execute_result"
    }
   ],
   "source": [
    "emb_model.encode(\"Hello ave fast\")"
   ]
  },
  {
   "cell_type": "code",
   "execution_count": 9,
   "id": "specific-rescue",
   "metadata": {
    "ExecuteTime": {
     "end_time": "2021-03-14T13:43:33.317457Z",
     "start_time": "2021-03-14T13:43:33.310546Z"
    }
   },
   "outputs": [
    {
     "data": {
      "text/plain": [
       "[35, 3333]"
      ]
     },
     "execution_count": 9,
     "metadata": {},
     "output_type": "execute_result"
    }
   ],
   "source": [
    "emb_model.encode_ids(\"hello\")"
   ]
  },
  {
   "cell_type": "code",
   "execution_count": 10,
   "id": "fleet-cassette",
   "metadata": {
    "ExecuteTime": {
     "end_time": "2021-03-14T13:43:33.320832Z",
     "start_time": "2021-03-14T13:43:33.318311Z"
    }
   },
   "outputs": [
    {
     "data": {
      "text/plain": [
       "(2, 300)"
      ]
     },
     "execution_count": 10,
     "metadata": {},
     "output_type": "execute_result"
    }
   ],
   "source": [
    "emb_model.embed(\"hello\").shape"
   ]
  },
  {
   "cell_type": "markdown",
   "id": "caring-annex",
   "metadata": {},
   "source": [
    "## Vectorizer\n",
    "\n",
    "`BPEmbVectorizer` is a class for converting a list of addresses into nested array subword embeddings."
   ]
  },
  {
   "cell_type": "code",
   "execution_count": 11,
   "id": "french-malawi",
   "metadata": {
    "ExecuteTime": {
     "end_time": "2021-03-14T13:43:33.583209Z",
     "start_time": "2021-03-14T13:43:33.576727Z"
    }
   },
   "outputs": [],
   "source": [
    "# https://github.com/GRAAL-Research/deepparse/blob/0951ffa18b0838fbd536d8d607695f1667d9939a/deepparse/vectorizer/bpemb_vectorizer.py#L9\n",
    "\n",
    "class BPEmbVectorizer:\n",
    "    \"\"\"\n",
    "    BPEmb vectorizer to convert an address into BPEmb embedding where each word is decomposed into subword units that\n",
    "    are in turn embedded as a vector\n",
    "    \"\"\"\n",
    "\n",
    "    def __init__(self, embeddings_model: Any) -> None:\n",
    "        self.embeddings_model = embeddings_model\n",
    "        self.padding_value = 0\n",
    "\n",
    "    def __call__(self, addresses: List[str]) -> List[Tuple]:\n",
    "        \"\"\"\n",
    "        Method to vectorizer addresses.\n",
    "        Args:\n",
    "            addresses (list[str]): The addresses to vectorize.\n",
    "        Return:\n",
    "            A tuple of the addresses elements (components) embedding vectosr and the word decomposition lengths.\n",
    "        \"\"\"\n",
    "        self._max_length = 0\n",
    "        batch = [self._vectorize_sequence(address) for address in addresses]\n",
    "        self._decomposed_sequence_padding(batch)\n",
    "        return batch\n",
    "\n",
    "    def _vectorize_sequence(self, address: str) -> Tuple[List, List]:\n",
    "        \"\"\"\n",
    "        Method to vectorize the address.\n",
    "        Args:\n",
    "            address (str): Address to vectorize using BPEmb.\n",
    "        Return:\n",
    "            A tuple of list of word vector and the word decomposition lengths.\n",
    "        \"\"\"\n",
    "        input_sequence = []\n",
    "        word_decomposition_lengths = []\n",
    "#         address = address.replace(\",\", \"\")  # see issue 56 https://github.com/GRAAL-Research/deepparse/issues/56\n",
    "        for word in address.split():\n",
    "            bpe_decomposition = self.embeddings_model.embed(word)\n",
    "            word_decomposition_lengths.append(len(bpe_decomposition))\n",
    "            input_sequence.append(list(bpe_decomposition))\n",
    "\n",
    "        self._max_length = max(self._max_length, max(word_decomposition_lengths))\n",
    "\n",
    "        return input_sequence, word_decomposition_lengths\n",
    "\n",
    "    def _decomposed_sequence_padding(self, batch: List[Tuple]) -> None:\n",
    "        \"\"\"\n",
    "        Method to add padding to the decomposed sequence.\n",
    "        \"\"\"\n",
    "        for decomposed_sequence, _ in batch:\n",
    "            for decomposition in decomposed_sequence:\n",
    "                if len(decomposition) != self._max_length:\n",
    "                    decomposition.extend([np.ones(self.embeddings_model.dim) * [self.padding_value]] *\n",
    "                                         (self._max_length - len(decomposition)))"
   ]
  },
  {
   "cell_type": "code",
   "execution_count": 12,
   "id": "verified-saying",
   "metadata": {
    "ExecuteTime": {
     "end_time": "2021-03-14T13:43:33.801284Z",
     "start_time": "2021-03-14T13:43:33.799304Z"
    }
   },
   "outputs": [],
   "source": [
    "vectorizer = BPEmbVectorizer(embeddings_model=emb_model)"
   ]
  },
  {
   "cell_type": "code",
   "execution_count": 13,
   "id": "amended-nature",
   "metadata": {
    "ExecuteTime": {
     "end_time": "2021-03-14T13:43:33.980843Z",
     "start_time": "2021-03-14T13:43:33.978647Z"
    }
   },
   "outputs": [],
   "source": [
    "output = vectorizer([\"Hello ave fast\"])\n",
    "# output[0] => \"Hello ave\"\n",
    "# output[0][0] => embeddings\n",
    "#     output[0][0][0] => Hello\n",
    "#     output[0][0][1] => Ave\n",
    "# output[0][1] => length"
   ]
  },
  {
   "cell_type": "code",
   "execution_count": 14,
   "id": "suspected-semiconductor",
   "metadata": {
    "ExecuteTime": {
     "end_time": "2021-03-14T13:43:34.181865Z",
     "start_time": "2021-03-14T13:43:34.179166Z"
    }
   },
   "outputs": [
    {
     "data": {
      "text/plain": [
       "list"
      ]
     },
     "execution_count": 14,
     "metadata": {},
     "output_type": "execute_result"
    }
   ],
   "source": [
    "type(output)"
   ]
  },
  {
   "cell_type": "code",
   "execution_count": 15,
   "id": "worth-savannah",
   "metadata": {
    "ExecuteTime": {
     "end_time": "2021-03-14T13:43:34.371016Z",
     "start_time": "2021-03-14T13:43:34.367917Z"
    }
   },
   "outputs": [
    {
     "data": {
      "text/plain": [
       "[2, 1, 1]"
      ]
     },
     "execution_count": 15,
     "metadata": {},
     "output_type": "execute_result"
    }
   ],
   "source": [
    "output[0][1]"
   ]
  },
  {
   "cell_type": "markdown",
   "id": "serial-delicious",
   "metadata": {},
   "source": [
    "## Padding to torch Tensor\n",
    "\n",
    "Note that different addresses may have different number of subwords. To handle this, we pad the tensor with zeros. `bpemb_data_padding` handles the padding and converts the nested array of subwords to `torch.Tensor` of padded subword embedding and its length."
   ]
  },
  {
   "cell_type": "code",
   "execution_count": 16,
   "id": "thick-liberty",
   "metadata": {
    "ExecuteTime": {
     "end_time": "2021-03-14T13:43:34.789605Z",
     "start_time": "2021-03-14T13:43:34.784873Z"
    }
   },
   "outputs": [],
   "source": [
    "# https://github.com/GRAAL-Research/deepparse/blob/0951ffa18b0838fbd536d8d607695f1667d9939a/deepparse/converter/data_padding.py#L36\n",
    "\n",
    "def bpemb_data_padding(batch: List[Tuple], padding_value=-100) -> Tuple:\n",
    "    \"\"\"\n",
    "    Function that add padding to the sequences and to the decomposition lengths so all can have the same length as\n",
    "    the longest one.\n",
    "    Args:\n",
    "        batch (list[tuple]): The list of vectorize tupled batch data where the first element is the address embeddings\n",
    "            and the second is the word decomposition lengths.\n",
    "    Returns:\n",
    "        A tuple (``x``, ``y``, ``z``). The element ``x`` is a tensor of padded word vectors, ``y`` is the padded\n",
    "        decomposition lengths, and ``z`` is the original lengths of the sequences before padding.\n",
    "    \"\"\"\n",
    "\n",
    "    sequences_vectors, decomp_len, lengths = zip(\n",
    "        *[(torch.tensor(vectors), word_decomposition_len, len(vectors))\n",
    "          for vectors, word_decomposition_len in sorted(batch, key=lambda x: len(x[0]), reverse=True)])\n",
    "\n",
    "    lengths = torch.tensor(lengths)\n",
    "\n",
    "    padded_sequences_vectors = pad_sequence(sequences_vectors, batch_first=True, padding_value=padding_value)\n",
    "\n",
    "    # pad decomposition length\n",
    "    max_sequence_length = lengths.max().item()\n",
    "    for decomposition_length in decomp_len:\n",
    "        if len(decomposition_length) < max_sequence_length:\n",
    "            decomposition_length.extend([1] * (max_sequence_length - len(decomposition_length)))\n",
    "\n",
    "    return padded_sequences_vectors, list(decomp_len), lengths"
   ]
  },
  {
   "cell_type": "code",
   "execution_count": 17,
   "id": "compound-snapshot",
   "metadata": {
    "ExecuteTime": {
     "end_time": "2021-03-14T13:43:35.000129Z",
     "start_time": "2021-03-14T13:43:34.997260Z"
    }
   },
   "outputs": [],
   "source": [
    "padded_output = bpemb_data_padding(output)"
   ]
  },
  {
   "cell_type": "code",
   "execution_count": 18,
   "id": "phantom-confidentiality",
   "metadata": {
    "ExecuteTime": {
     "end_time": "2021-03-14T13:43:35.211065Z",
     "start_time": "2021-03-14T13:43:35.206970Z"
    }
   },
   "outputs": [
    {
     "data": {
      "text/plain": [
       "(tensor([[[[ 0.1198, -0.0876, -0.3663,  ..., -0.1264,  0.0360,  0.3640],\n",
       "           [ 0.3029, -0.0928, -0.3175,  ...,  0.5222, -0.1151,  0.2372]],\n",
       " \n",
       "          [[ 0.2716, -0.3184,  0.4688,  ...,  0.5481,  0.2733, -0.5135],\n",
       "           [ 0.0000,  0.0000,  0.0000,  ...,  0.0000,  0.0000,  0.0000]],\n",
       " \n",
       "          [[-0.0346, -0.1021, -0.7138,  ..., -0.5223, -0.0465, -0.0476],\n",
       "           [ 0.0000,  0.0000,  0.0000,  ...,  0.0000,  0.0000,  0.0000]]]],\n",
       "        dtype=torch.float64),\n",
       " [[2, 1, 1]],\n",
       " tensor([3]))"
      ]
     },
     "execution_count": 18,
     "metadata": {},
     "output_type": "execute_result"
    }
   ],
   "source": [
    "padded_output"
   ]
  },
  {
   "cell_type": "markdown",
   "id": "color-marijuana",
   "metadata": {},
   "source": [
    "## Seq2Seq Model\n",
    "\n",
    "Here is a simple model modified from deepparse. It takes a sequence of subword embeddings and outputs tagging probability for each subword.\n",
    "\n",
    "For example, the string `\"Hello ave fast\"` has 4 subwords `['▁h', 'ello', '▁ave', '▁fast']`. The model outputs a tensor of shape `(n_subwords, 4)` indicating the logits of the particular subword having certain tag. Currently, we have 4 tags, as follows: POI, Street Name, Others, End-of-String.\n"
   ]
  },
  {
   "cell_type": "code",
   "execution_count": 19,
   "id": "danish-trailer",
   "metadata": {
    "ExecuteTime": {
     "end_time": "2021-03-14T13:43:35.659554Z",
     "start_time": "2021-03-14T13:43:35.642527Z"
    }
   },
   "outputs": [],
   "source": [
    "# adapted from https://github.com/GRAAL-Research/deepparse/blob/0951ffa18b0838fbd536d8d607695f1667d9939a/deepparse/network/bpemb_seq2seq.py#L9\n",
    "\n",
    "class Seq2SeqModel(nn.Module):\n",
    "    def __init__(self):\n",
    "        super().__init__()\n",
    "        \n",
    "        # Embedding network\n",
    "        self.embedding_input_size = 300\n",
    "        self.embedding_hidden_size = 300\n",
    "        self.embedding_num_layers = 1\n",
    "        self.embedding = nn.LSTM(self.embedding_input_size, \n",
    "                                 self.embedding_hidden_size, \n",
    "                                 num_layers=self.embedding_num_layers,\n",
    "                                 batch_first=True,\n",
    "                                 bidirectional=True)\n",
    "\n",
    "        self.embedding_projection_size = 300\n",
    "        self.embdding_projection = nn.Linear(2 * self.embedding_hidden_size, self.embedding_projection_size)\n",
    "        \n",
    "        # Encoder\n",
    "        self.encoder_input_size = 300\n",
    "        self.encoder_hidden_size = 1024\n",
    "        self.encoder_num_layers = 1\n",
    "        self.encoder = nn.LSTM(self.encoder_input_size, \n",
    "                               self.encoder_hidden_size,\n",
    "                               num_layers=self.encoder_num_layers, \n",
    "                               batch_first=True)\n",
    "        \n",
    "        # Decoder\n",
    "        self.decoder_input_size = 1\n",
    "        self.decoder_hidden_size = 1024\n",
    "        self.decoder_num_layers = 1\n",
    "        self.decoder = nn.LSTM(self.decoder_input_size, \n",
    "                               self.decoder_hidden_size,\n",
    "                               num_layers=self.decoder_num_layers)\n",
    "        \n",
    "        self.decoder_projection_output_size = 4\n",
    "        self.decoder_projection = []\n",
    "        self.decoder_projection.append(nn.Linear(self.decoder_hidden_size, self.decoder_projection_output_size))\n",
    "        self.decoder_projection.append(nn.LogSoftmax(dim=1))\n",
    "        self.decoder_projection = nn.Sequential(*self.decoder_projection)\n",
    "        \n",
    "    def forward(self, \n",
    "                to_predict: torch.Tensor, \n",
    "                decomposition_lengths: List, \n",
    "                lengths_tensor: torch.Tensor,\n",
    "                target: Union[torch.Tensor, None] = None) -> torch.Tensor:\n",
    "        device = to_predict.device\n",
    "        batch_size = to_predict.size(0)\n",
    "        \n",
    "        #### Get embedded output\n",
    "        embeddings = torch.zeros(to_predict.size(1), to_predict.size(0), to_predict.size(3)).to(device)\n",
    "        to_predict = to_predict.transpose(0, 1).float()\n",
    "        \n",
    "        for i in range(to_predict.size(0)):\n",
    "            lengths = []\n",
    "            \n",
    "            for decomposition_length in decomposition_lengths:\n",
    "                lengths.append(decomposition_length[i])\n",
    "            \n",
    "            packed_sequence = pack_padded_sequence(to_predict[i], torch.tensor(lengths).cpu(), batch_first=True, enforce_sorted=False)\n",
    "            packed_output, _ = self.embedding(packed_sequence)\n",
    "            padded_output, padded_output_lengths = pad_packed_sequence(packed_output, batch_first=True)\n",
    "            \n",
    "            word_context = torch.zeros(padded_output.size(0), padded_output.size(2)).to(device)\n",
    "            for j in range(batch_size):\n",
    "                word_context[j] = padded_output[j, padded_output_lengths[j] - 1, :]\n",
    "            \n",
    "            projection_output = self.embdding_projection(word_context)\n",
    "            \n",
    "            embeddings[i] = projection_output\n",
    "        \n",
    "        embeddings = embeddings.transpose(0, 1)\n",
    "                \n",
    "        #### Encoder\n",
    "        packed_sequence = pack_padded_sequence(embeddings, lengths_tensor.cpu(), batch_first=True, enforce_sorted=False)\n",
    "        _, decoder_hidden = self.encoder(packed_sequence)\n",
    "        \n",
    "        #### Decoder\n",
    "        decoder_input = torch.zeros(1, batch_size, 1).to(device).new_full((1, batch_size, 1), -1)\n",
    "        max_length = lengths_tensor[0].item()\n",
    "        prediction_sequence = torch.zeros(max_length + 1, batch_size, 4).to(device)\n",
    "        decoder_output, decoder_hidden = self.decoder(decoder_input, decoder_hidden)\n",
    "        decoder_output = self.decoder_projection(decoder_output[0])\n",
    "        \n",
    "        prediction_sequence[0] = decoder_output\n",
    "        _, decoder_input = decoder_output.topk(1)\n",
    "        \n",
    "        if target is not None and random.random() < 0.5:\n",
    "            target = target.transpose(0, 1)\n",
    "            for idx in range(max_length):\n",
    "                decoder_input = target[idx].view(1, batch_size, 1).float()\n",
    "                decoder_output, decoder_hidden = self.decoder(decoder_input, decoder_hidden)\n",
    "                decoder_output = self.decoder_projection(decoder_output[0])\n",
    "                prediction_sequence[idx + 1] = decoder_output\n",
    "        else:\n",
    "            for idx in range(max_length):\n",
    "                decoder_output, decoder_hidden = self.decoder(decoder_input.view(1, batch_size, 1).float(), decoder_hidden)\n",
    "                decoder_output = self.decoder_projection(decoder_output[0])\n",
    "                prediction_sequence[idx + 1] = decoder_output\n",
    "                _, decoder_input = decoder_output.topk(1)\n",
    "                \n",
    "        return prediction_sequence"
   ]
  },
  {
   "cell_type": "code",
   "execution_count": 20,
   "id": "handy-discipline",
   "metadata": {
    "ExecuteTime": {
     "end_time": "2021-03-14T13:43:35.857287Z",
     "start_time": "2021-03-14T13:43:35.855326Z"
    }
   },
   "outputs": [],
   "source": [
    "addresses_to_parse = [\"3 jersey road, un 28 nsw 2064\", \"fast ave\", \"hello ave\"]"
   ]
  },
  {
   "cell_type": "code",
   "execution_count": 21,
   "id": "opened-killing",
   "metadata": {
    "ExecuteTime": {
     "end_time": "2021-03-14T13:43:36.661030Z",
     "start_time": "2021-03-14T13:43:36.065994Z"
    }
   },
   "outputs": [],
   "source": [
    "emb_model = BPEmb(lang=\"multi\", vs=100000, dim=300)\n",
    "vectorizer = BPEmbVectorizer(embeddings_model=emb_model)\n",
    "model = Seq2SeqModel()"
   ]
  },
  {
   "cell_type": "code",
   "execution_count": 22,
   "id": "gross-chain",
   "metadata": {
    "ExecuteTime": {
     "end_time": "2021-03-14T13:43:36.664529Z",
     "start_time": "2021-03-14T13:43:36.661970Z"
    }
   },
   "outputs": [],
   "source": [
    "output = vectorizer(addresses_to_parse)\n",
    "padded_output = bpemb_data_padding(output)"
   ]
  },
  {
   "cell_type": "code",
   "execution_count": 23,
   "id": "apart-newark",
   "metadata": {
    "ExecuteTime": {
     "end_time": "2021-03-14T13:43:36.690421Z",
     "start_time": "2021-03-14T13:43:36.665363Z"
    }
   },
   "outputs": [],
   "source": [
    "predictions = model(*padded_output)"
   ]
  },
  {
   "cell_type": "code",
   "execution_count": 24,
   "id": "cutting-patient",
   "metadata": {
    "ExecuteTime": {
     "end_time": "2021-03-14T13:43:36.741943Z",
     "start_time": "2021-03-14T13:43:36.739822Z"
    }
   },
   "outputs": [],
   "source": [
    "tags_predictions = predictions.max(2)[1].transpose(0, 1).cpu().numpy()\n",
    "tags_predictions_prob = torch.exp(predictions.max(2)[0]).transpose(0, 1).detach().cpu().numpy()"
   ]
  },
  {
   "cell_type": "code",
   "execution_count": 25,
   "id": "certain-radius",
   "metadata": {
    "ExecuteTime": {
     "end_time": "2021-03-14T13:43:36.991309Z",
     "start_time": "2021-03-14T13:43:36.988931Z"
    },
    "scrolled": true
   },
   "outputs": [
    {
     "data": {
      "text/plain": [
       "torch.Size([8, 3, 4])"
      ]
     },
     "execution_count": 25,
     "metadata": {},
     "output_type": "execute_result"
    }
   ],
   "source": [
    "predictions.shape"
   ]
  },
  {
   "cell_type": "code",
   "execution_count": 26,
   "id": "statutory-stadium",
   "metadata": {
    "ExecuteTime": {
     "end_time": "2021-03-14T13:43:37.197724Z",
     "start_time": "2021-03-14T13:43:37.194434Z"
    }
   },
   "outputs": [
    {
     "data": {
      "text/plain": [
       "array([[0.2537793 , 0.25413087, 0.25421765, 0.2542254 , 0.2542219 ,\n",
       "        0.2542237 , 0.25423124, 0.2542414 ],\n",
       "       [0.2537815 , 0.25405163, 0.2541368 , 0.25416574, 0.2541837 ,\n",
       "        0.2542014 , 0.25421923, 0.2542355 ],\n",
       "       [0.25378394, 0.2540525 , 0.25413883, 0.2541687 , 0.25418675,\n",
       "        0.25420406, 0.25422132, 0.25423703]], dtype=float32)"
      ]
     },
     "execution_count": 26,
     "metadata": {},
     "output_type": "execute_result"
    }
   ],
   "source": [
    "tags_predictions_prob"
   ]
  },
  {
   "cell_type": "code",
   "execution_count": 27,
   "id": "changing-mechanism",
   "metadata": {
    "ExecuteTime": {
     "end_time": "2021-03-14T13:43:37.403322Z",
     "start_time": "2021-03-14T13:43:37.394829Z"
    }
   },
   "outputs": [
    {
     "name": "stdout",
     "output_type": "stream",
     "text": [
      "3 jersey road, un 28 nsw 2064\n",
      "\t 3 1 0.2537793\n",
      "\t jersey 1 0.25413087\n",
      "\t road, 1 0.25421765\n",
      "\t un 1 0.2542254\n",
      "\t 28 1 0.2542219\n",
      "\t nsw 1 0.2542237\n",
      "\t 2064 1 0.25423124\n",
      "fast ave\n",
      "\t fast 1 0.2537815\n",
      "\t ave 1 0.25405163\n",
      "hello ave\n",
      "\t hello 1 0.25378394\n",
      "\t ave 1 0.2540525\n"
     ]
    }
   ],
   "source": [
    "tagged_addresses_components = []\n",
    "for address_to_parse, tags_prediction, tags_prediction_prob in zip(addresses_to_parse, tags_predictions,\n",
    "                                                                   tags_predictions_prob):\n",
    "    tagged_address_components = []\n",
    "    print(address_to_parse)\n",
    "    for word, predicted_idx_tag, tag_proba in zip(address_to_parse.split(), tags_prediction,\n",
    "                                                  tags_prediction_prob):\n",
    "        print(\"\\t\", word, predicted_idx_tag, tag_proba)\n",
    "        tag = (tags_converter(predicted_idx_tag), tag_proba)\n",
    "        tagged_address_components.append((word, tag))\n",
    "    tagged_addresses_components.append(tagged_address_components)"
   ]
  },
  {
   "cell_type": "code",
   "execution_count": 28,
   "id": "italic-chapter",
   "metadata": {
    "ExecuteTime": {
     "end_time": "2021-03-14T13:43:37.595484Z",
     "start_time": "2021-03-14T13:43:37.591664Z"
    }
   },
   "outputs": [
    {
     "data": {
      "text/plain": [
       "[[('3', ('Street', 0.2537793)),\n",
       "  ('jersey', ('Street', 0.25413087)),\n",
       "  ('road,', ('Street', 0.25421765)),\n",
       "  ('un', ('Street', 0.2542254)),\n",
       "  ('28', ('Street', 0.2542219)),\n",
       "  ('nsw', ('Street', 0.2542237)),\n",
       "  ('2064', ('Street', 0.25423124))],\n",
       " [('fast', ('Street', 0.2537815)), ('ave', ('Street', 0.25405163))],\n",
       " [('hello', ('Street', 0.25378394)), ('ave', ('Street', 0.2540525))]]"
      ]
     },
     "execution_count": 28,
     "metadata": {},
     "output_type": "execute_result"
    }
   ],
   "source": [
    "tagged_addresses_components"
   ]
  },
  {
   "cell_type": "code",
   "execution_count": null,
   "id": "sexual-hours",
   "metadata": {},
   "outputs": [],
   "source": []
  },
  {
   "cell_type": "code",
   "execution_count": null,
   "id": "gross-alcohol",
   "metadata": {},
   "outputs": [],
   "source": []
  },
  {
   "cell_type": "markdown",
   "id": "julian-maldives",
   "metadata": {},
   "source": [
    "### Dataset"
   ]
  },
  {
   "cell_type": "code",
   "execution_count": 50,
   "id": "retained-python",
   "metadata": {
    "ExecuteTime": {
     "end_time": "2021-03-14T13:44:18.058376Z",
     "start_time": "2021-03-14T13:44:18.054049Z"
    }
   },
   "outputs": [],
   "source": [
    "class Dataset(torch.utils.data.Dataset):\n",
    "    def __init__(self, csv_file=TRAIN_CSV_PATH):\n",
    "        self.df = pd.read_csv(csv_file)\n",
    "        self.df = self.df[self.df['labels'].notnull()]\n",
    "        self.df['labels'] = self.df['labels'].apply(literal_eval)\n",
    "        \n",
    "    def __len__(self):\n",
    "        return len(self.df)\n",
    "    \n",
    "    def __getitem__(self, idx):\n",
    "        raw_address = self.df.iloc[idx]['sanitized_raw_address']\n",
    "        POI, street = self.df.iloc[idx]['POI/street'].split('/')\n",
    "        labels = self.df.iloc[idx]['labels']\n",
    "        return raw_address, labels"
   ]
  },
  {
   "cell_type": "code",
   "execution_count": 51,
   "id": "brief-saturday",
   "metadata": {
    "ExecuteTime": {
     "end_time": "2021-03-14T13:44:21.268914Z",
     "start_time": "2021-03-14T13:44:18.483771Z"
    }
   },
   "outputs": [
    {
     "name": "stderr",
     "output_type": "stream",
     "text": [
      "Exception ignored in: <function tqdm.__del__ at 0x7fa070b691f0>\n",
      "Traceback (most recent call last):\n",
      "  File \"/fast/Workspace/shopee-street/shopee-street/.env/lib/python3.8/site-packages/tqdm/std.py\", line 1145, in __del__\n",
      "    self.close()\n",
      "  File \"/fast/Workspace/shopee-street/shopee-street/.env/lib/python3.8/site-packages/tqdm/notebook.py\", line 271, in close\n",
      "    super(tqdm_notebook, self).close()\n",
      "  File \"/fast/Workspace/shopee-street/shopee-street/.env/lib/python3.8/site-packages/tqdm/std.py\", line 1264, in close\n",
      "    if self.disable:\n",
      "AttributeError: 'tqdm_notebook' object has no attribute 'disable'\n",
      "Exception ignored in: <function tqdm.__del__ at 0x7fa070b691f0>\n",
      "Traceback (most recent call last):\n",
      "  File \"/fast/Workspace/shopee-street/shopee-street/.env/lib/python3.8/site-packages/tqdm/std.py\", line 1145, in __del__\n",
      "    self.close()\n",
      "  File \"/fast/Workspace/shopee-street/shopee-street/.env/lib/python3.8/site-packages/tqdm/notebook.py\", line 271, in close\n",
      "    super(tqdm_notebook, self).close()\n",
      "  File \"/fast/Workspace/shopee-street/shopee-street/.env/lib/python3.8/site-packages/tqdm/std.py\", line 1264, in close\n",
      "    if self.disable:\n",
      "AttributeError: 'tqdm_notebook' object has no attribute 'disable'\n"
     ]
    }
   ],
   "source": [
    "dataset = Dataset()"
   ]
  },
  {
   "cell_type": "code",
   "execution_count": 52,
   "id": "personalized-maryland",
   "metadata": {
    "ExecuteTime": {
     "end_time": "2021-03-14T13:44:21.280188Z",
     "start_time": "2021-03-14T13:44:21.269901Z"
    }
   },
   "outputs": [
    {
     "data": {
      "text/html": [
       "<div>\n",
       "<style scoped>\n",
       "    .dataframe tbody tr th:only-of-type {\n",
       "        vertical-align: middle;\n",
       "    }\n",
       "\n",
       "    .dataframe tbody tr th {\n",
       "        vertical-align: top;\n",
       "    }\n",
       "\n",
       "    .dataframe thead th {\n",
       "        text-align: right;\n",
       "    }\n",
       "</style>\n",
       "<table border=\"1\" class=\"dataframe\">\n",
       "  <thead>\n",
       "    <tr style=\"text-align: right;\">\n",
       "      <th></th>\n",
       "      <th>Unnamed: 0</th>\n",
       "      <th>Unnamed: 0.1</th>\n",
       "      <th>Unnamed: 0.1.1</th>\n",
       "      <th>id</th>\n",
       "      <th>raw_address</th>\n",
       "      <th>POI/street</th>\n",
       "      <th>sanitized_raw_address</th>\n",
       "      <th>is_clean</th>\n",
       "      <th>labels</th>\n",
       "    </tr>\n",
       "  </thead>\n",
       "  <tbody>\n",
       "    <tr>\n",
       "      <th>0</th>\n",
       "      <td>0</td>\n",
       "      <td>0</td>\n",
       "      <td>4941</td>\n",
       "      <td>4941</td>\n",
       "      <td>hadi raya kre, no 29 balaraja</td>\n",
       "      <td>hadi/raya kre</td>\n",
       "      <td>hadi raya kre , no 29 balaraja</td>\n",
       "      <td>True</td>\n",
       "      <td>[PointOfInterest, Street, Street, Other, Other...</td>\n",
       "    </tr>\n",
       "    <tr>\n",
       "      <th>2</th>\n",
       "      <td>2</td>\n",
       "      <td>2</td>\n",
       "      <td>115253</td>\n",
       "      <td>115253</td>\n",
       "      <td>merak 11, no 10 cikarang utara</td>\n",
       "      <td>/merak 11</td>\n",
       "      <td>merak 11 , no 10 cikarang utara</td>\n",
       "      <td>True</td>\n",
       "      <td>[Street, Street, Other, Other, Other, Other, O...</td>\n",
       "    </tr>\n",
       "    <tr>\n",
       "      <th>3</th>\n",
       "      <td>3</td>\n",
       "      <td>3</td>\n",
       "      <td>299321</td>\n",
       "      <td>299321</td>\n",
       "      <td>hotel fairmont jl asia afrika 8 gelora bung karno</td>\n",
       "      <td>bung karno/jl asia afrika</td>\n",
       "      <td>hotel fairmont jl asia afrika 8 gelora bung karno</td>\n",
       "      <td>True</td>\n",
       "      <td>[Other, Other, Street, Street, Street, Other, ...</td>\n",
       "    </tr>\n",
       "    <tr>\n",
       "      <th>4</th>\n",
       "      <td>4</td>\n",
       "      <td>4</td>\n",
       "      <td>173570</td>\n",
       "      <td>173570</td>\n",
       "      <td>kar anyar d, 4 karang anyar rt 15 1 sawah besar</td>\n",
       "      <td>/kar anyar d</td>\n",
       "      <td>kar anyar d , 4 karang anyar rt 15 1 sawah besar</td>\n",
       "      <td>True</td>\n",
       "      <td>[Street, Street, Street, Other, Other, Other, ...</td>\n",
       "    </tr>\n",
       "    <tr>\n",
       "      <th>5</th>\n",
       "      <td>5</td>\n",
       "      <td>5</td>\n",
       "      <td>30862</td>\n",
       "      <td>30862</td>\n",
       "      <td>roban gg. bakti 135 singkawang tengah</td>\n",
       "      <td>/gg. bakti</td>\n",
       "      <td>roban gg. bakti 135 singkawang tengah</td>\n",
       "      <td>True</td>\n",
       "      <td>[Other, Street, Street, Other, Other, Other]</td>\n",
       "    </tr>\n",
       "    <tr>\n",
       "      <th>...</th>\n",
       "      <td>...</td>\n",
       "      <td>...</td>\n",
       "      <td>...</td>\n",
       "      <td>...</td>\n",
       "      <td>...</td>\n",
       "      <td>...</td>\n",
       "      <td>...</td>\n",
       "      <td>...</td>\n",
       "      <td>...</td>\n",
       "    </tr>\n",
       "    <tr>\n",
       "      <th>239995</th>\n",
       "      <td>239995</td>\n",
       "      <td>239995</td>\n",
       "      <td>5274</td>\n",
       "      <td>5274</td>\n",
       "      <td>cata xii,</td>\n",
       "      <td>/cata xii</td>\n",
       "      <td>cata xii ,</td>\n",
       "      <td>True</td>\n",
       "      <td>[Street, Street, Other]</td>\n",
       "    </tr>\n",
       "    <tr>\n",
       "      <th>239996</th>\n",
       "      <td>239996</td>\n",
       "      <td>239996</td>\n",
       "      <td>161682</td>\n",
       "      <td>161682</td>\n",
       "      <td>nga jaya 27 1 pucang sewu gubeng</td>\n",
       "      <td>/nga jaya</td>\n",
       "      <td>nga jaya 27 1 pucang sewu gubeng</td>\n",
       "      <td>True</td>\n",
       "      <td>[Street, Street, Other, Other, Other, Other, O...</td>\n",
       "    </tr>\n",
       "    <tr>\n",
       "      <th>239997</th>\n",
       "      <td>239997</td>\n",
       "      <td>239997</td>\n",
       "      <td>28853</td>\n",
       "      <td>28853</td>\n",
       "      <td>taman ubud lest v no 21 binong curug</td>\n",
       "      <td>/taman ubud lest v</td>\n",
       "      <td>taman ubud lest v no 21 binong curug</td>\n",
       "      <td>True</td>\n",
       "      <td>[Street, Street, Street, Street, Other, Other,...</td>\n",
       "    </tr>\n",
       "    <tr>\n",
       "      <th>239998</th>\n",
       "      <td>239998</td>\n",
       "      <td>239998</td>\n",
       "      <td>298534</td>\n",
       "      <td>298534</td>\n",
       "      <td>raya riga tanjung ganti i kelam tengah</td>\n",
       "      <td>/raya riga</td>\n",
       "      <td>raya riga tanjung ganti i kelam tengah</td>\n",
       "      <td>True</td>\n",
       "      <td>[Street, Street, Other, Other, Other, Other, O...</td>\n",
       "    </tr>\n",
       "    <tr>\n",
       "      <th>239999</th>\n",
       "      <td>239999</td>\n",
       "      <td>239999</td>\n",
       "      <td>262227</td>\n",
       "      <td>262227</td>\n",
       "      <td>gg. gad iii 48 pisangan timur rt 4 14 pulo gadung</td>\n",
       "      <td>/</td>\n",
       "      <td>gg. gad iii 48 pisangan timur rt 4 14 pulo gadung</td>\n",
       "      <td>True</td>\n",
       "      <td>[Other, Other, Other, Other, Other, Other, Oth...</td>\n",
       "    </tr>\n",
       "  </tbody>\n",
       "</table>\n",
       "<p>188882 rows × 9 columns</p>\n",
       "</div>"
      ],
      "text/plain": [
       "        Unnamed: 0  Unnamed: 0.1  Unnamed: 0.1.1      id  \\\n",
       "0                0             0            4941    4941   \n",
       "2                2             2          115253  115253   \n",
       "3                3             3          299321  299321   \n",
       "4                4             4          173570  173570   \n",
       "5                5             5           30862   30862   \n",
       "...            ...           ...             ...     ...   \n",
       "239995      239995        239995            5274    5274   \n",
       "239996      239996        239996          161682  161682   \n",
       "239997      239997        239997           28853   28853   \n",
       "239998      239998        239998          298534  298534   \n",
       "239999      239999        239999          262227  262227   \n",
       "\n",
       "                                              raw_address  \\\n",
       "0                           hadi raya kre, no 29 balaraja   \n",
       "2                          merak 11, no 10 cikarang utara   \n",
       "3       hotel fairmont jl asia afrika 8 gelora bung karno   \n",
       "4         kar anyar d, 4 karang anyar rt 15 1 sawah besar   \n",
       "5                   roban gg. bakti 135 singkawang tengah   \n",
       "...                                                   ...   \n",
       "239995                                          cata xii,   \n",
       "239996                   nga jaya 27 1 pucang sewu gubeng   \n",
       "239997               taman ubud lest v no 21 binong curug   \n",
       "239998             raya riga tanjung ganti i kelam tengah   \n",
       "239999  gg. gad iii 48 pisangan timur rt 4 14 pulo gadung   \n",
       "\n",
       "                       POI/street  \\\n",
       "0                   hadi/raya kre   \n",
       "2                       /merak 11   \n",
       "3       bung karno/jl asia afrika   \n",
       "4                    /kar anyar d   \n",
       "5                      /gg. bakti   \n",
       "...                           ...   \n",
       "239995                  /cata xii   \n",
       "239996                  /nga jaya   \n",
       "239997         /taman ubud lest v   \n",
       "239998                 /raya riga   \n",
       "239999                          /   \n",
       "\n",
       "                                    sanitized_raw_address  is_clean  \\\n",
       "0                          hadi raya kre , no 29 balaraja      True   \n",
       "2                         merak 11 , no 10 cikarang utara      True   \n",
       "3       hotel fairmont jl asia afrika 8 gelora bung karno      True   \n",
       "4        kar anyar d , 4 karang anyar rt 15 1 sawah besar      True   \n",
       "5                   roban gg. bakti 135 singkawang tengah      True   \n",
       "...                                                   ...       ...   \n",
       "239995                                         cata xii ,      True   \n",
       "239996                   nga jaya 27 1 pucang sewu gubeng      True   \n",
       "239997               taman ubud lest v no 21 binong curug      True   \n",
       "239998             raya riga tanjung ganti i kelam tengah      True   \n",
       "239999  gg. gad iii 48 pisangan timur rt 4 14 pulo gadung      True   \n",
       "\n",
       "                                                   labels  \n",
       "0       [PointOfInterest, Street, Street, Other, Other...  \n",
       "2       [Street, Street, Other, Other, Other, Other, O...  \n",
       "3       [Other, Other, Street, Street, Street, Other, ...  \n",
       "4       [Street, Street, Street, Other, Other, Other, ...  \n",
       "5            [Other, Street, Street, Other, Other, Other]  \n",
       "...                                                   ...  \n",
       "239995                            [Street, Street, Other]  \n",
       "239996  [Street, Street, Other, Other, Other, Other, O...  \n",
       "239997  [Street, Street, Street, Street, Other, Other,...  \n",
       "239998  [Street, Street, Other, Other, Other, Other, O...  \n",
       "239999  [Other, Other, Other, Other, Other, Other, Oth...  \n",
       "\n",
       "[188882 rows x 9 columns]"
      ]
     },
     "execution_count": 52,
     "metadata": {},
     "output_type": "execute_result"
    }
   ],
   "source": [
    "dataset.df"
   ]
  },
  {
   "cell_type": "markdown",
   "id": "tender-broadway",
   "metadata": {},
   "source": [
    "## Test"
   ]
  },
  {
   "cell_type": "code",
   "execution_count": 53,
   "id": "italian-illustration",
   "metadata": {
    "ExecuteTime": {
     "end_time": "2021-03-14T13:44:21.286512Z",
     "start_time": "2021-03-14T13:44:21.281240Z"
    }
   },
   "outputs": [],
   "source": [
    "test_addresses = [\n",
    "    [\"50 Hello ave\", [\"Other\", \"Other\", \"Other\"]], \n",
    "    [\"SS road\", [\"Other\", \"Other\"]],\n",
    "]"
   ]
  },
  {
   "cell_type": "code",
   "execution_count": 54,
   "id": "oriented-evanescence",
   "metadata": {
    "ExecuteTime": {
     "end_time": "2021-03-14T13:44:21.289289Z",
     "start_time": "2021-03-14T13:44:21.287302Z"
    }
   },
   "outputs": [],
   "source": [
    "vectorizer = BPEmbVectorizer(embeddings_model=emb_model)\n",
    "tags_vectorizer = TagsConverter(tags)"
   ]
  },
  {
   "cell_type": "code",
   "execution_count": 55,
   "id": "tutorial-cutting",
   "metadata": {
    "ExecuteTime": {
     "end_time": "2021-03-14T13:44:21.291933Z",
     "start_time": "2021-03-14T13:44:21.289924Z"
    }
   },
   "outputs": [],
   "source": [
    "import sys\n",
    "import numpy\n",
    "import pprint\n",
    "numpy.set_printoptions(threshold=100)"
   ]
  },
  {
   "cell_type": "code",
   "execution_count": 56,
   "id": "white-cinema",
   "metadata": {
    "ExecuteTime": {
     "end_time": "2021-03-14T13:44:21.295094Z",
     "start_time": "2021-03-14T13:44:21.292692Z"
    }
   },
   "outputs": [],
   "source": [
    "input_sequence = []\n",
    "target_sequence = []\n",
    "\n",
    "input_sequence.extend(vectorizer([address[0] for address in test_addresses]))\n",
    "for address in test_addresses:\n",
    "    target_tmp = [tags_vectorizer(target) for target in address[1]]\n",
    "    target_tmp.append(tags_vectorizer(\"EOS\"))\n",
    "    target_sequence.append(target_tmp)"
   ]
  },
  {
   "cell_type": "code",
   "execution_count": 57,
   "id": "domestic-metro",
   "metadata": {
    "ExecuteTime": {
     "end_time": "2021-03-14T13:44:21.299959Z",
     "start_time": "2021-03-14T13:44:21.295724Z"
    }
   },
   "outputs": [
    {
     "data": {
      "text/plain": [
       "[([[array([-0.032396, -0.051103,  0.449281, ...,  0.354258, -0.630191,\n",
       "            0.640046], dtype=float32),\n",
       "    array([0., 0., 0., ..., 0., 0., 0.])],\n",
       "   [array([ 0.119792, -0.087593, -0.366256, ..., -0.126352,  0.036049,\n",
       "            0.363969], dtype=float32),\n",
       "    array([ 0.302875, -0.092815, -0.317463, ...,  0.52216 , -0.115126,\n",
       "            0.237173], dtype=float32)],\n",
       "   [array([ 0.271623, -0.318372,  0.468792, ...,  0.548052,  0.273256,\n",
       "           -0.513469], dtype=float32),\n",
       "    array([0., 0., 0., ..., 0., 0., 0.])]],\n",
       "  [1, 2, 1]),\n",
       " ([[array([-0.126823,  0.425704,  0.154299, ...,  0.366716,  0.07786 ,\n",
       "            0.562716], dtype=float32),\n",
       "    array([0., 0., 0., ..., 0., 0., 0.])],\n",
       "   [array([-0.147449,  0.12949 , -0.107977, ...,  0.101064,  0.264715,\n",
       "            0.098076], dtype=float32),\n",
       "    array([0., 0., 0., ..., 0., 0., 0.])]],\n",
       "  [1, 1])]"
      ]
     },
     "execution_count": 57,
     "metadata": {},
     "output_type": "execute_result"
    }
   ],
   "source": [
    "input_sequence"
   ]
  },
  {
   "cell_type": "code",
   "execution_count": 58,
   "id": "recreational-offering",
   "metadata": {
    "ExecuteTime": {
     "end_time": "2021-03-14T13:44:21.303259Z",
     "start_time": "2021-03-14T13:44:21.301050Z"
    }
   },
   "outputs": [
    {
     "data": {
      "text/plain": [
       "[[2, 2, 2, 3], [2, 2, 3]]"
      ]
     },
     "execution_count": 58,
     "metadata": {},
     "output_type": "execute_result"
    }
   ],
   "source": [
    "target_sequence"
   ]
  },
  {
   "cell_type": "markdown",
   "id": "acknowledged-apartment",
   "metadata": {},
   "source": [
    "## Data Loader"
   ]
  },
  {
   "cell_type": "code",
   "execution_count": 67,
   "id": "intended-sentence",
   "metadata": {
    "ExecuteTime": {
     "end_time": "2021-03-14T13:45:12.158461Z",
     "start_time": "2021-03-14T13:45:12.152534Z"
    }
   },
   "outputs": [],
   "source": [
    "def _convert_bpemb_sequence_to_tensor(batch):\n",
    "    \"\"\"\n",
    "    Sort and convert a BPEmb sequence into a tensor with target element\n",
    "    \"\"\"\n",
    "    sorted_batch = sorted(batch, key=lambda x: len(x[0][1]), reverse=True)\n",
    "    return zip(*[(torch.tensor(vectors), word_decomposition_len, torch.tensor(target_vectors), len(vectors))\n",
    "                 for (vectors, word_decomposition_len), target_vectors in sorted_batch])\n",
    "\n",
    "def bpemb_data_padding_with_target(batch: List[Tuple], padding_value=-100) -> Tuple:\n",
    "    \"\"\"\n",
    "    Function that add padding to the sequences and to the decomposition lengths so all can have the same length as\n",
    "    the longest one.\n",
    "    Args:\n",
    "        batch (list[tuple]): The list of vectorize tupled batch data where the first element is the address embeddings\n",
    "            and the second is the word decomposition lengths.\n",
    "    Returns:\n",
    "        A tuple ((``x``, ``y`` , ``z``), ``w``). The element ``x`` is a tensor of padded word vectors,\n",
    "        ``y`` is the padded decomposition lengths, ``z`` is the original lengths of the sequences before padding, and\n",
    "        ``w`` is a tensor of padded target idx.\n",
    "    \"\"\"\n",
    "\n",
    "    sequences_vectors, decomp_len, target_vectors, lengths = _convert_bpemb_sequence_to_tensor(batch)\n",
    "\n",
    "    lengths = torch.tensor(lengths)\n",
    "\n",
    "    padded_sequences_vectors = pad_sequence(sequences_vectors, batch_first=True, padding_value=padding_value)\n",
    "    padded_target_vectors = pad_sequence(target_vectors, batch_first=True, padding_value=padding_value)\n",
    "\n",
    "    # pad decomposition length\n",
    "    max_sequence_length = lengths.max().item()\n",
    "    for decomposition_length in decomp_len:\n",
    "        if len(decomposition_length) < max_sequence_length:\n",
    "            decomposition_length.extend([1] * (max_sequence_length - len(decomposition_length)))\n",
    "\n",
    "    return (padded_sequences_vectors, list(decomp_len), lengths), padded_target_vectors\n"
   ]
  },
  {
   "cell_type": "code",
   "execution_count": 68,
   "id": "active-marking",
   "metadata": {
    "ExecuteTime": {
     "end_time": "2021-03-14T13:45:12.365221Z",
     "start_time": "2021-03-14T13:45:12.363166Z"
    }
   },
   "outputs": [],
   "source": [
    "from torch.utils.data import DataLoader"
   ]
  },
  {
   "cell_type": "code",
   "execution_count": 69,
   "id": "concerned-reflection",
   "metadata": {
    "ExecuteTime": {
     "end_time": "2021-03-14T13:45:12.554536Z",
     "start_time": "2021-03-14T13:45:12.550969Z"
    }
   },
   "outputs": [],
   "source": [
    "def collate_fn_train(batch_pairs):\n",
    "    input_sequence = []\n",
    "    target_sequence = []\n",
    "\n",
    "    input_sequence.extend(vectorizer([address[0] for address in batch_pairs]))\n",
    "    for address in batch_pairs:\n",
    "        target_tmp = [tags_vectorizer(target) for target in address[1]]\n",
    "        target_tmp.append(tags_vectorizer(\"EOS\"))\n",
    "        target_sequence.append(target_tmp)\n",
    "        \n",
    "    raw = [address[0] for address in batch_pairs]\n",
    "    return raw, zip(input_sequence, target_sequence)"
   ]
  },
  {
   "cell_type": "code",
   "execution_count": 278,
   "id": "atmospheric-teaching",
   "metadata": {
    "ExecuteTime": {
     "end_time": "2021-03-14T15:14:54.331292Z",
     "start_time": "2021-03-14T15:14:54.329097Z"
    }
   },
   "outputs": [],
   "source": [
    "data_loader = DataLoader(dataset, batch_size=32, collate_fn=collate_fn_train)"
   ]
  },
  {
   "cell_type": "code",
   "execution_count": 279,
   "id": "terminal-judgment",
   "metadata": {
    "ExecuteTime": {
     "end_time": "2021-03-14T15:14:54.831757Z",
     "start_time": "2021-03-14T15:14:54.829659Z"
    }
   },
   "outputs": [],
   "source": [
    "device = torch.device(\"cuda\" if torch.cuda.is_available() else \"cpu\")"
   ]
  },
  {
   "cell_type": "code",
   "execution_count": 294,
   "id": "brave-animation",
   "metadata": {
    "ExecuteTime": {
     "end_time": "2021-03-14T17:41:02.609657Z",
     "start_time": "2021-03-14T17:41:02.524408Z"
    }
   },
   "outputs": [],
   "source": [
    "model = Seq2SeqModel().to(device)\n",
    "optimizer = optim.SGD(model.parameters(), lr=0.01)\n",
    "lr_scheduler = optim.lr_scheduler.StepLR(optimizer, step_size=1, gamma=0.1)\n",
    "loss_fn = nn.NLLLoss(weight=torch.Tensor([20, 1, 0.05, 1])).to(device)"
   ]
  },
  {
   "cell_type": "markdown",
   "id": "frank-profession",
   "metadata": {},
   "source": [
    "__Pre-train__"
   ]
  },
  {
   "cell_type": "code",
   "execution_count": 295,
   "id": "assisted-community",
   "metadata": {
    "ExecuteTime": {
     "end_time": "2021-03-14T17:41:03.234433Z",
     "start_time": "2021-03-14T17:41:03.218142Z"
    }
   },
   "outputs": [],
   "source": [
    "# Load pretrain\n",
    "all_params = torch.load(\"/home/tjenrung/.cache/deepparse/bpemb.ckpt\")\n",
    "our_model_kvpair=model.state_dict()\n",
    "our_model_kvpair['embedding.weight_ih_l0'] = all_params['embedding_network.model.weight_ih_l0']\n",
    "our_model_kvpair['embedding.weight_hh_l0'] = all_params['embedding_network.model.weight_hh_l0']\n",
    "our_model_kvpair['embedding.bias_ih_l0'] = all_params['embedding_network.model.bias_ih_l0']\n",
    "our_model_kvpair['embedding.bias_hh_l0'] = all_params['embedding_network.model.bias_hh_l0']\n",
    "our_model_kvpair['embedding.weight_ih_l0_reverse'] = all_params['embedding_network.model.weight_ih_l0_reverse']\n",
    "our_model_kvpair['embedding.weight_hh_l0_reverse'] = all_params['embedding_network.model.weight_hh_l0_reverse']\n",
    "our_model_kvpair['embedding.bias_ih_l0_reverse'] = all_params['embedding_network.model.bias_ih_l0_reverse']\n",
    "our_model_kvpair['embedding.bias_hh_l0_reverse'] = all_params['embedding_network.model.bias_hh_l0_reverse']\n",
    "our_model_kvpair['embdding_projection.weight'] = all_params['embedding_network.projection_layer.weight']\n",
    "our_model_kvpair['embdding_projection.bias'] = all_params['embedding_network.projection_layer.bias']\n",
    "our_model_kvpair['encoder.weight_ih_l0'] = all_params['encoder.lstm.weight_ih_l0']\n",
    "our_model_kvpair['encoder.weight_hh_l0'] = all_params['encoder.lstm.weight_hh_l0']\n",
    "our_model_kvpair['encoder.bias_ih_l0'] = all_params['encoder.lstm.bias_ih_l0']\n",
    "our_model_kvpair['encoder.bias_hh_l0'] = all_params['encoder.lstm.bias_hh_l0']\n",
    "our_model_kvpair['decoder.weight_ih_l0'] = all_params['decoder.lstm.weight_ih_l0']\n",
    "our_model_kvpair['decoder.weight_hh_l0'] = all_params['decoder.lstm.weight_hh_l0']\n",
    "our_model_kvpair['decoder.bias_ih_l0'] = all_params['decoder.lstm.bias_ih_l0']\n",
    "our_model_kvpair['decoder.bias_hh_l0'] = all_params['decoder.lstm.bias_hh_l0']"
   ]
  },
  {
   "cell_type": "code",
   "execution_count": 296,
   "id": "recent-hospital",
   "metadata": {
    "ExecuteTime": {
     "end_time": "2021-03-14T17:41:03.381534Z",
     "start_time": "2021-03-14T17:41:03.378250Z"
    }
   },
   "outputs": [],
   "source": [
    "writer = SummaryWriter()\n",
    "counter = 0"
   ]
  },
  {
   "cell_type": "code",
   "execution_count": null,
   "id": "english-timber",
   "metadata": {
    "ExecuteTime": {
     "start_time": "2021-03-14T17:41:03.699Z"
    }
   },
   "outputs": [
    {
     "data": {
      "application/vnd.jupyter.widget-view+json": {
       "model_id": "ab74049cad094ce5ae8148b50c80bd4a",
       "version_major": 2,
       "version_minor": 0
      },
      "text/plain": [
       "  0%|          | 0/5903 [00:00<?, ?it/s]"
      ]
     },
     "metadata": {},
     "output_type": "display_data"
    },
    {
     "name": "stdout",
     "output_type": "stream",
     "text": [
      "pasar enjo lantai 2 no a.l01.bks.123 [('pasar', 'PointOfInterest', 'Other'), ('enjo', 'PointOfInterest', 'Street'), ('lantai', 'PointOfInterest', 'Street'), ('2', 'PointOfInterest', 'Street'), ('no', 'PointOfInterest', 'Street'), ('a.l01.bks.123', 'PointOfInterest', 'Other')]\n",
      "mig ii 1 40534 cimahi selatan [('mig', 'PointOfInterest', 'Other'), ('ii', 'PointOfInterest', 'Other'), ('1', 'PointOfInterest', 'Other'), ('40534', 'PointOfInterest', 'Other'), ('cimahi', 'PointOfInterest', 'Other'), ('selatan', 'PointOfInterest', 'PointOfInterest')]\n",
      "kedai mie kdl , kapas kram [('kedai', 'PointOfInterest', 'PointOfInterest'), ('mie', 'PointOfInterest', 'PointOfInterest'), ('kdl', 'PointOfInterest', 'Other'), (',', 'PointOfInterest', 'Other'), ('kapas', 'PointOfInterest', 'Other'), ('kram', 'PointOfInterest', 'Other')]\n",
      "kademangan komp batan indah setu [('kademangan', 'PointOfInterest', 'Other'), ('komp', 'PointOfInterest', 'Other'), ('batan', 'PointOfInterest', 'Street'), ('indah', 'PointOfInterest', 'Street'), ('setu', 'PointOfInterest', 'Street')]\n",
      "lowokwaru kaliu 22 a lowokwaru [('lowokwaru', 'PointOfInterest', 'Other'), ('kaliu', 'PointOfInterest', 'Other'), ('22', 'PointOfInterest', 'Other'), ('a', 'PointOfInterest', 'PointOfInterest'), ('lowokwaru', 'PointOfInterest', 'PointOfInterest')]\n",
      "puc raya , 5 8 banyumanik [('puc', 'PointOfInterest', 'PointOfInterest'), ('raya', 'PointOfInterest', 'PointOfInterest'), (',', 'PointOfInterest', 'Other'), ('5', 'PointOfInterest', 'Other'), ('8', 'PointOfInterest', 'Other'), ('banyumanik', 'PointOfInterest', 'Other')]\n",
      "raya boj cilimus [('raya', 'PointOfInterest', 'Other'), ('boj', 'PointOfInterest', 'Other'), ('cilimus', 'PointOfInterest', 'Other')]\n",
      "semanan dha griya vi 23 rt 7 12 11850 kalideres [('semanan', 'PointOfInterest', 'PointOfInterest'), ('dha', 'PointOfInterest', 'PointOfInterest'), ('griya', 'PointOfInterest', 'PointOfInterest'), ('vi', 'PointOfInterest', 'Other'), ('23', 'PointOfInterest', 'Other'), ('rt', 'PointOfInterest', 'Other'), ('7', 'PointOfInterest', 'Other'), ('12', 'PointOfInterest', 'Street'), ('11850', 'PointOfInterest', 'Street'), ('kalideres', 'PointOfInterest', 'Street')]\n",
      "tenggu wetan , no 28 8 wonokusumo kel. semampir [('tenggu', 'PointOfInterest', 'Other'), ('wetan', 'PointOfInterest', 'Street'), (',', 'PointOfInterest', 'Street'), ('no', 'PointOfInterest', 'Street'), ('28', 'PointOfInterest', 'Other'), ('8', 'PointOfInterest', 'Other'), ('wonokusumo', 'PointOfInterest', 'Other'), ('kel.', 'PointOfInterest', 'Other'), ('semampir', 'PointOfInterest', 'Other')]\n",
      "rsu [('rsu', 'PointOfInterest', 'Other')]\n",
      "kelor utama , [('kelor', 'PointOfInterest', 'Other'), ('utama', 'PointOfInterest', 'Other'), (',', 'PointOfInterest', 'Other')]\n",
      "jl. ujung hara nain rt 12 15 bekasi utara [('jl.', 'PointOfInterest', 'Other'), ('ujung', 'PointOfInterest', 'Other'), ('hara', 'PointOfInterest', 'Other'), ('nain', 'PointOfInterest', 'Street'), ('rt', 'PointOfInterest', 'Street'), ('12', 'PointOfInterest', 'PointOfInterest'), ('15', 'PointOfInterest', 'PointOfInterest'), ('bekasi', 'PointOfInterest', 'PointOfInterest'), ('utara', 'PointOfInterest', 'Other')]\n",
      "pakis sid pakis sawahan [('pakis', 'PointOfInterest', 'Other'), ('sid', 'PointOfInterest', 'Other'), ('pakis', 'PointOfInterest', 'Other'), ('sawahan', 'PointOfInterest', 'Street')]\n",
      "halte summarecon bekasi [('halte', 'PointOfInterest', 'PointOfInterest'), ('summarecon', 'PointOfInterest', 'PointOfInterest'), ('bekasi', 'PointOfInterest', 'PointOfInterest')]\n",
      "de'wang art , raden fatah , selebar [(\"de'wang\", 'PointOfInterest', 'PointOfInterest'), ('art', 'PointOfInterest', 'PointOfInterest'), (',', 'PointOfInterest', 'Other'), ('raden', 'PointOfInterest', 'Other'), ('fatah', 'PointOfInterest', 'Other'), (',', 'PointOfInterest', 'Other'), ('selebar', 'PointOfInterest', 'Other')]\n",
      "paradise resort the bay c5 26 jln aria putra ciputat [('paradise', 'PointOfInterest', 'PointOfInterest'), ('resort', 'PointOfInterest', 'PointOfInterest'), ('the', 'PointOfInterest', 'PointOfInterest'), ('bay', 'PointOfInterest', 'Other'), ('c5', 'PointOfInterest', 'Other'), ('26', 'PointOfInterest', 'Other'), ('jln', 'PointOfInterest', 'Other'), ('aria', 'PointOfInterest', 'Other'), ('putra', 'PointOfInterest', 'Other'), ('ciputat', 'PointOfInterest', 'Other')]\n",
      "pak ono , 83581 praya timur [('pak', 'PointOfInterest', 'Other'), ('ono', 'PointOfInterest', 'PointOfInterest'), (',', 'PointOfInterest', 'PointOfInterest'), ('83581', 'PointOfInterest', 'PointOfInterest'), ('praya', 'PointOfInterest', 'Other'), ('timur', 'PointOfInterest', 'Street')]\n",
      "trop i 45-49 tropodo waru [('trop', 'PointOfInterest', 'Other'), ('i', 'PointOfInterest', 'Other'), ('45-49', 'PointOfInterest', 'Other'), ('tropodo', 'PointOfInterest', 'Other'), ('waru', 'PointOfInterest', 'Street')]\n",
      "kedaung kali angke daan mogot rt 11 2 11710 cengkareng [('kedaung', 'PointOfInterest', 'Street'), ('kali', 'PointOfInterest', 'Street'), ('angke', 'PointOfInterest', 'Street'), ('daan', 'PointOfInterest', 'Street'), ('mogot', 'PointOfInterest', 'Other'), ('rt', 'PointOfInterest', 'Other'), ('11', 'PointOfInterest', 'Other'), ('2', 'PointOfInterest', 'Other'), ('11710', 'PointOfInterest', 'Other'), ('cengkareng', 'PointOfInterest', 'Other')]\n",
      "komp damai jalur 2 , [('komp', 'PointOfInterest', 'PointOfInterest'), ('damai', 'PointOfInterest', 'PointOfInterest'), ('jalur', 'PointOfInterest', 'Other'), ('2', 'PointOfInterest', 'Other'), (',', 'PointOfInterest', 'Other')]\n",
      "sempakata bunga sedap malam xviii 16 20131 medan selayang [('sempakata', 'PointOfInterest', 'Other'), ('bunga', 'PointOfInterest', 'Other'), ('sedap', 'PointOfInterest', 'Other'), ('malam', 'PointOfInterest', 'Other'), ('xviii', 'PointOfInterest', 'Other'), ('16', 'PointOfInterest', 'Other'), ('20131', 'PointOfInterest', 'Other'), ('medan', 'PointOfInterest', 'Other'), ('selayang', 'PointOfInterest', 'Other')]\n",
      "let supr , kepandean kel. [('let', 'PointOfInterest', 'Other'), ('supr', 'PointOfInterest', 'Other'), (',', 'PointOfInterest', 'Other'), ('kepandean', 'PointOfInterest', 'Street'), ('kel.', 'PointOfInterest', 'Street')]\n",
      "rejowinangun nyi adi sari 221 [('rejowinangun', 'PointOfInterest', 'Street'), ('nyi', 'PointOfInterest', 'Street'), ('adi', 'PointOfInterest', 'Street'), ('sari', 'PointOfInterest', 'PointOfInterest'), ('221', 'PointOfInterest', 'PointOfInterest')]\n",
      "toko lukas rajagukguk , gar [('toko', 'PointOfInterest', 'Other'), ('lukas', 'PointOfInterest', 'Other'), ('rajagukguk', 'PointOfInterest', 'Other'), (',', 'PointOfInterest', 'Other'), ('gar', 'PointOfInterest', 'Other')]\n",
      "jend a yani , [('jend', 'PointOfInterest', 'Other'), ('a', 'PointOfInterest', 'Other'), ('yani', 'PointOfInterest', 'Other'), (',', 'PointOfInterest', 'Other')]\n",
      "kamp padur padurenan mustika jaya [('kamp', 'PointOfInterest', 'Street'), ('padur', 'PointOfInterest', 'Street'), ('padurenan', 'PointOfInterest', 'Street'), ('mustika', 'PointOfInterest', 'Street'), ('jaya', 'PointOfInterest', 'Street')]\n",
      "smp negeri 2 wuryantoro , [('smp', 'PointOfInterest', 'PointOfInterest'), ('negeri', 'PointOfInterest', 'PointOfInterest'), ('2', 'PointOfInterest', 'PointOfInterest'), ('wuryantoro', 'PointOfInterest', 'Other'), (',', 'PointOfInterest', 'Other')]\n",
      "wati gorden prambon [('wati', 'PointOfInterest', 'Other'), ('gorden', 'PointOfInterest', 'Other'), ('prambon', 'PointOfInterest', 'Other')]\n",
      "arj 4 bekasi jaya bekasi timur [('arj', 'PointOfInterest', 'Other'), ('4', 'PointOfInterest', 'Street'), ('bekasi', 'PointOfInterest', 'Street'), ('jaya', 'PointOfInterest', 'Street'), ('bekasi', 'PointOfInterest', 'Street'), ('timur', 'PointOfInterest', 'Other')]\n",
      "pondok benda parik 22 pamulang [('pondok', 'PointOfInterest', 'Other'), ('benda', 'PointOfInterest', 'Other'), ('parik', 'PointOfInterest', 'Other'), ('22', 'PointOfInterest', 'Other'), ('pamulang', 'PointOfInterest', 'Other')]\n",
      "wisma per barat ii 48 mulyorejo rt 2 rw 7 mulyorejo [('wisma', 'PointOfInterest', 'Other'), ('per', 'PointOfInterest', 'Other'), ('barat', 'PointOfInterest', 'PointOfInterest'), ('ii', 'PointOfInterest', 'Street'), ('48', 'PointOfInterest', 'Street'), ('mulyorejo', 'PointOfInterest', 'Other'), ('rt', 'PointOfInterest', 'Other'), ('2', 'PointOfInterest', 'Other'), ('rw', 'PointOfInterest', 'Other'), ('7', 'PointOfInterest', 'Other'), ('mulyorejo', 'PointOfInterest', 'Other')]\n"
     ]
    },
    {
     "name": "stdout",
     "output_type": "stream",
     "text": [
      "sidarum saw 54212 kutoarjo [('sidarum', 'PointOfInterest', 'Other'), ('saw', 'PointOfInterest', 'Other'), ('54212', 'PointOfInterest', 'PointOfInterest'), ('kutoarjo', 'PointOfInterest', 'PointOfInterest')]\n",
      "kalibenda raya banj - wonosobo no 190 sigaluh [('kalibenda', 'PointOfInterest', 'Street'), ('raya', 'PointOfInterest', 'Street'), ('banj', 'PointOfInterest', 'Other'), ('-', 'PointOfInterest', 'Other'), ('wonosobo', 'PointOfInterest', 'Other'), ('no', 'PointOfInterest', 'Other'), ('190', 'PointOfInterest', 'Other'), ('sigaluh', 'PointOfInterest', 'Other')]\n",
      "niaga samping , 25 panca daya. pt , rw 8 krembangan [('niaga', 'PointOfInterest', 'Other'), ('samping', 'PointOfInterest', 'Other'), (',', 'PointOfInterest', 'Other'), ('25', 'PointOfInterest', 'Other'), ('panca', 'PointOfInterest', 'Other'), ('daya.', 'PointOfInterest', 'Other'), ('pt', 'EOS', 'Other'), (',', 'EOS', 'Other'), ('rw', 'EOS', 'Other'), ('8', 'EOS', 'Other'), ('krembangan', 'EOS', 'Other')]\n",
      "sosis bakar bubun aufa mirza , rent baru [('sosis', 'PointOfInterest', 'PointOfInterest'), ('bakar', 'PointOfInterest', 'PointOfInterest'), ('bubun', 'PointOfInterest', 'PointOfInterest'), ('aufa', 'PointOfInterest', 'PointOfInterest'), ('mirza', 'PointOfInterest', 'Other'), (',', 'PointOfInterest', 'Other'), ('rent', 'PointOfInterest', 'Other'), ('baru', 'PointOfInterest', 'Other')]\n",
      "mon 129 sidoarjo [('mon', 'PointOfInterest', 'PointOfInterest'), ('129', 'PointOfInterest', 'PointOfInterest'), ('sidoarjo', 'PointOfInterest', 'PointOfInterest')]\n",
      "cilame infanteri no 43 ngamprah [('cilame', 'PointOfInterest', 'Other'), ('infanteri', 'PointOfInterest', 'Street'), ('no', 'PointOfInterest', 'Street'), ('43', 'PointOfInterest', 'Other'), ('ngamprah', 'PointOfInterest', 'Other')]\n",
      "pusp raya 18 serpong [('pusp', 'PointOfInterest', 'Street'), ('raya', 'PointOfInterest', 'Street'), ('18', 'PointOfInterest', 'Street'), ('serpong', 'PointOfInterest', 'Street')]\n",
      "perta iii c 4d pasar minggu rt 2 4 pasar minggu [('perta', 'PointOfInterest', 'Other'), ('iii', 'PointOfInterest', 'Other'), ('c', 'PointOfInterest', 'Other'), ('4d', 'PointOfInterest', 'Street'), ('pasar', 'PointOfInterest', 'Street'), ('minggu', 'PointOfInterest', 'Street'), ('rt', 'PointOfInterest', 'Other'), ('2', 'PointOfInterest', 'Other'), ('4', 'PointOfInterest', 'Other'), ('pasar', 'PointOfInterest', 'Other'), ('minggu', 'PointOfInterest', 'Other')]\n",
      "rawa laut jl. jend. sudi , 86 35213 enggal [('rawa', 'PointOfInterest', 'PointOfInterest'), ('laut', 'PointOfInterest', 'PointOfInterest'), ('jl.', 'PointOfInterest', 'PointOfInterest'), ('jend.', 'PointOfInterest', 'PointOfInterest'), ('sudi', 'PointOfInterest', 'Other'), (',', 'PointOfInterest', 'Street'), ('86', 'PointOfInterest', 'Street'), ('35213', 'PointOfInterest', 'Street'), ('enggal', 'PointOfInterest', 'Street')]\n",
      "kedungmundu fatma 11 2 50273 tembalang [('kedungmundu', 'PointOfInterest', 'Street'), ('fatma', 'PointOfInterest', 'Street'), ('11', 'PointOfInterest', 'Street'), ('2', 'PointOfInterest', 'Street'), ('50273', 'PointOfInterest', 'PointOfInterest'), ('tembalang', 'PointOfInterest', 'PointOfInterest')]\n",
      "cluster gardenia park d 18 galuh mas , [('cluster', 'PointOfInterest', 'Other'), ('gardenia', 'PointOfInterest', 'Other'), ('park', 'PointOfInterest', 'Other'), ('d', 'PointOfInterest', 'Other'), ('18', 'PointOfInterest', 'Other'), ('galuh', 'EOS', 'Other'), ('mas', 'EOS', 'Other'), (',', 'EOS', 'Other')]\n",
      "desa ciherang , kampung lebak jero , rt rw 002 011 [('desa', 'PointOfInterest', 'Other'), ('ciherang', 'PointOfInterest', 'Other'), (',', 'PointOfInterest', 'PointOfInterest'), ('kampung', 'PointOfInterest', 'Street'), ('lebak', 'PointOfInterest', 'Street'), ('jero', 'PointOfInterest', 'Street'), (',', 'PointOfInterest', 'Other'), ('rt', 'PointOfInterest', 'Other'), ('rw', 'PointOfInterest', 'Other'), ('002', 'EOS', 'Other'), ('011', 'EOS', 'Other')]\n",
      "mojo man kerto viii 28 rw 11 60285 [('mojo', 'PointOfInterest', 'Street'), ('man', 'PointOfInterest', 'Street'), ('kerto', 'PointOfInterest', 'Street'), ('viii', 'PointOfInterest', 'Other'), ('28', 'PointOfInterest', 'PointOfInterest'), ('rw', 'PointOfInterest', 'PointOfInterest'), ('11', 'PointOfInterest', 'PointOfInterest'), ('60285', 'PointOfInterest', 'PointOfInterest')]\n",
      "pram 38-10 jenang majenang [('pram', 'PointOfInterest', 'Street'), ('38-10', 'PointOfInterest', 'Street'), ('jenang', 'PointOfInterest', 'Street'), ('majenang', 'PointOfInterest', 'Other')]\n",
      "rostina collection 2 [('rostina', 'PointOfInterest', 'Other'), ('collection', 'PointOfInterest', 'Other'), ('2', 'PointOfInterest', 'Other')]\n",
      "ciburuy raya pad 645 padalarang [('ciburuy', 'PointOfInterest', 'Other'), ('raya', 'PointOfInterest', 'Other'), ('pad', 'PointOfInterest', 'Other'), ('645', 'PointOfInterest', 'Other'), ('padalarang', 'PointOfInterest', 'Other')]\n",
      "broto , [('broto', 'PointOfInterest', 'Other'), (',', 'PointOfInterest', 'Other')]\n",
      "nasi oduk 17 , haji ten , rawamangun [('nasi', 'PointOfInterest', 'Other'), ('oduk', 'PointOfInterest', 'Other'), ('17', 'PointOfInterest', 'Other'), (',', 'PointOfInterest', 'Other'), ('haji', 'PointOfInterest', 'Other'), ('ten', 'EOS', 'Other'), (',', 'EOS', 'Other'), ('rawamangun', 'EOS', 'Other')]\n",
      "rt013 rw006 no 42 rumah warna hijau yg ada warung ya dekat rptra malaka asri [('rt013', 'PointOfInterest', 'Street'), ('rw006', 'PointOfInterest', 'Street'), ('no', 'PointOfInterest', 'Street'), ('42', 'PointOfInterest', 'Other'), ('rumah', 'PointOfInterest', 'Other'), ('warna', 'PointOfInterest', 'PointOfInterest'), ('hijau', 'PointOfInterest', 'PointOfInterest'), ('yg', 'PointOfInterest', 'PointOfInterest'), ('ada', 'PointOfInterest', 'Other'), ('warung', 'PointOfInterest', 'Other'), ('ya', 'PointOfInterest', 'Other'), ('dekat', 'PointOfInterest', 'Other'), ('rptra', 'PointOfInterest', 'Other'), ('malaka', 'PointOfInterest', 'Other'), ('asri', 'PointOfInterest', 'Other')]\n",
      "gg. hh sukabumi utara kebon jeruk [('gg.', 'PointOfInterest', 'PointOfInterest'), ('hh', 'PointOfInterest', 'PointOfInterest'), ('sukabumi', 'PointOfInterest', 'PointOfInterest'), ('utara', 'PointOfInterest', 'PointOfInterest'), ('kebon', 'PointOfInterest', 'PointOfInterest'), ('jeruk', 'PointOfInterest', 'Other')]\n",
      "sambiroto jahe i , 343 8 tembalang [('sambiroto', 'PointOfInterest', 'Other'), ('jahe', 'PointOfInterest', 'Other'), ('i', 'PointOfInterest', 'PointOfInterest'), (',', 'PointOfInterest', 'PointOfInterest'), ('343', 'PointOfInterest', 'PointOfInterest'), ('8', 'PointOfInterest', 'PointOfInterest'), ('tembalang', 'PointOfInterest', 'Other')]\n",
      "komodor yos suda , sungai jawi luar kel. [('komodor', 'PointOfInterest', 'Street'), ('yos', 'PointOfInterest', 'Street'), ('suda', 'PointOfInterest', 'Street'), (',', 'PointOfInterest', 'Other'), ('sungai', 'PointOfInterest', 'PointOfInterest'), ('jawi', 'PointOfInterest', 'PointOfInterest'), ('luar', 'PointOfInterest', 'PointOfInterest'), ('kel.', 'PointOfInterest', 'Other')]\n",
      "rogojampi jem kalibaru-ba 110 rogojampi [('rogojampi', 'PointOfInterest', 'Other'), ('jem', 'PointOfInterest', 'Other'), ('kalibaru-ba', 'PointOfInterest', 'Other'), ('110', 'PointOfInterest', 'Street'), ('rogojampi', 'PointOfInterest', 'Street')]\n",
      "beji timur kedon 85 rt 4 16 16423 beji [('beji', 'PointOfInterest', 'Other'), ('timur', 'PointOfInterest', 'Other'), ('kedon', 'PointOfInterest', 'Street'), ('85', 'PointOfInterest', 'Street'), ('rt', 'PointOfInterest', 'Street'), ('4', 'PointOfInterest', 'Street'), ('16', 'PointOfInterest', 'Other'), ('16423', 'PointOfInterest', 'Other'), ('beji', 'EOS', 'Other')]\n",
      "gg. vii warakas tanjung priok [('gg.', 'PointOfInterest', 'Street'), ('vii', 'PointOfInterest', 'Street'), ('warakas', 'PointOfInterest', 'Other'), ('tanjung', 'PointOfInterest', 'Other'), ('priok', 'PointOfInterest', 'Other')]\n",
      "mala iv cibodasari cibodas [('mala', 'PointOfInterest', 'Other'), ('iv', 'PointOfInterest', 'Other'), ('cibodasari', 'PointOfInterest', 'Other'), ('cibodas', 'PointOfInterest', 'Other')]\n",
      "johan toko , man dua raya [('johan', 'PointOfInterest', 'Street'), ('toko', 'PointOfInterest', 'Street'), (',', 'PointOfInterest', 'Other'), ('man', 'PointOfInterest', 'Other'), ('dua', 'PointOfInterest', 'Other'), ('raya', 'PointOfInterest', 'Other')]\n"
     ]
    },
    {
     "name": "stdout",
     "output_type": "stream",
     "text": [
      "durian kadap 2 ,jr-durian kadap [('durian', 'PointOfInterest', 'PointOfInterest'), ('kadap', 'PointOfInterest', 'PointOfInterest'), ('2', 'PointOfInterest', 'PointOfInterest'), (',jr-durian', 'PointOfInterest', 'Other'), ('kadap', 'PointOfInterest', 'Other')]\n"
     ]
    },
    {
     "data": {
      "application/vnd.jupyter.widget-view+json": {
       "model_id": "0f3f25a4afbd4c93a22fb1768493fc8c",
       "version_major": 2,
       "version_minor": 0
      },
      "text/plain": [
       "  0%|          | 0/5903 [00:00<?, ?it/s]"
      ]
     },
     "metadata": {},
     "output_type": "display_data"
    },
    {
     "name": "stdout",
     "output_type": "stream",
     "text": [
      "gg. teguh karya , sungai beliung pontianak barat [('gg.', 'PointOfInterest', 'PointOfInterest'), ('teguh', 'PointOfInterest', 'PointOfInterest'), ('karya', 'PointOfInterest', 'PointOfInterest'), (',', 'PointOfInterest', 'Other'), ('sungai', 'PointOfInterest', 'Other'), ('beliung', 'PointOfInterest', 'Other'), ('pontianak', 'PointOfInterest', 'Other'), ('barat', 'PointOfInterest', 'Other')]\n",
      "a.h. nasu 463 cipadung wetan [('a.h.', 'PointOfInterest', 'PointOfInterest'), ('nasu', 'PointOfInterest', 'PointOfInterest'), ('463', 'PointOfInterest', 'Other'), ('cipadung', 'PointOfInterest', 'Other'), ('wetan', 'PointOfInterest', 'Other')]\n",
      "swad 5 , 41 rt 3 1 tugu cimanggis [('swad', 'PointOfInterest', 'Other'), ('5', 'PointOfInterest', 'PointOfInterest'), (',', 'PointOfInterest', 'PointOfInterest'), ('41', 'PointOfInterest', 'PointOfInterest'), ('rt', 'PointOfInterest', 'Street'), ('3', 'PointOfInterest', 'Street'), ('1', 'PointOfInterest', 'Street'), ('tugu', 'PointOfInterest', 'Street'), ('cimanggis', 'PointOfInterest', 'Street')]\n",
      "cen , no 21a smooch beauty , catur tunggal depok [('cen', 'PointOfInterest', 'Other'), (',', 'PointOfInterest', 'Other'), ('no', 'PointOfInterest', 'Other'), ('21a', 'PointOfInterest', 'Street'), ('smooch', 'PointOfInterest', 'Street'), ('beauty', 'PointOfInterest', 'Other'), (',', 'PointOfInterest', 'Other'), ('catur', 'PointOfInterest', 'Other'), ('tunggal', 'PointOfInterest', 'Other'), ('depok', 'PointOfInterest', 'Other')]\n",
      "kelurahan batu ampar rt 006 rw 01 no.14 [('kelurahan', 'PointOfInterest', 'PointOfInterest'), ('batu', 'PointOfInterest', 'PointOfInterest'), ('ampar', 'PointOfInterest', 'Other'), ('rt', 'PointOfInterest', 'Other'), ('006', 'PointOfInterest', 'Other'), ('rw', 'PointOfInterest', 'Other'), ('01', 'EOS', 'Other'), ('no.14', 'EOS', 'Other')]\n",
      "pasirsari sent lest i 20 rt 23 7 17530 cikarang selatan [('pasirsari', 'PointOfInterest', 'Other'), ('sent', 'PointOfInterest', 'Other'), ('lest', 'PointOfInterest', 'Other'), ('i', 'PointOfInterest', 'Other'), ('20', 'PointOfInterest', 'Other'), ('rt', 'EOS', 'Other'), ('23', 'EOS', 'Other'), ('7', 'EOS', 'Other'), ('17530', 'EOS', 'Other'), ('cikarang', 'EOS', 'Other'), ('selatan', 'EOS', 'Other')]\n",
      "toko hw , balam sakti , tampan [('toko', 'PointOfInterest', 'PointOfInterest'), ('hw', 'PointOfInterest', 'PointOfInterest'), (',', 'PointOfInterest', 'PointOfInterest'), ('balam', 'PointOfInterest', 'Other'), ('sakti', 'PointOfInterest', 'Other'), (',', 'PointOfInterest', 'Other'), ('tampan', 'PointOfInterest', 'Other')]\n",
      "melon swarga bara sangatta utara [('melon', 'PointOfInterest', 'Other'), ('swarga', 'PointOfInterest', 'Other'), ('bara', 'PointOfInterest', 'Other'), ('sangatta', 'PointOfInterest', 'Other'), ('utara', 'PointOfInterest', 'Other')]\n",
      "pati 1 , [('pati', 'PointOfInterest', 'Other'), ('1', 'PointOfInterest', 'Other'), (',', 'PointOfInterest', 'Other')]\n",
      "pegangsaan dua peg dua rt 3 3 kelapa gading [('pegangsaan', 'PointOfInterest', 'Street'), ('dua', 'PointOfInterest', 'Street'), ('peg', 'PointOfInterest', 'Street'), ('dua', 'PointOfInterest', 'Street'), ('rt', 'PointOfInterest', 'Other'), ('3', 'PointOfInterest', 'Other'), ('3', 'EOS', 'Other'), ('kelapa', 'EOS', 'Other'), ('gading', 'EOS', 'Other')]\n",
      "warung makan ibu nur , raya solo-wo , gemantar selogiri [('warung', 'PointOfInterest', 'PointOfInterest'), ('makan', 'PointOfInterest', 'PointOfInterest'), ('ibu', 'PointOfInterest', 'PointOfInterest'), ('nur', 'PointOfInterest', 'Other'), (',', 'PointOfInterest', 'Other'), ('raya', 'PointOfInterest', 'Other'), ('solo-wo', 'EOS', 'Other'), (',', 'EOS', 'Other'), ('gemantar', 'EOS', 'Other'), ('selogiri', 'EOS', 'Other')]\n",
      "nusa indah , no 175 loji bogor barat - kota [('nusa', 'PointOfInterest', 'Other'), ('indah', 'PointOfInterest', 'Other'), (',', 'PointOfInterest', 'Other'), ('no', 'PointOfInterest', 'Other'), ('175', 'PointOfInterest', 'Other'), ('loji', 'EOS', 'Other'), ('bogor', 'EOS', 'Other'), ('barat', 'EOS', 'Other'), ('-', 'EOS', 'Other'), ('kota', 'EOS', 'Other')]\n",
      "brigjend. katamso no 38b purwodadi kel. purwodadi [('brigjend.', 'PointOfInterest', 'Other'), ('katamso', 'PointOfInterest', 'Other'), ('no', 'PointOfInterest', 'Other'), ('38b', 'PointOfInterest', 'PointOfInterest'), ('purwodadi', 'PointOfInterest', 'PointOfInterest'), ('kel.', 'PointOfInterest', 'Other'), ('purwodadi', 'PointOfInterest', 'Other')]\n",
      "bambu kun no 12-17 marga mulya rt 3 7 [('bambu', 'PointOfInterest', 'Other'), ('kun', 'PointOfInterest', 'Other'), ('no', 'PointOfInterest', 'Other'), ('12-17', 'PointOfInterest', 'Street'), ('marga', 'PointOfInterest', 'Street'), ('mulya', 'PointOfInterest', 'Street'), ('rt', 'PointOfInterest', 'Other'), ('3', 'EOS', 'Other'), ('7', 'EOS', 'Other')]\n",
      "handriadi juru suralaga , [('handriadi', 'PointOfInterest', 'Other'), ('juru', 'PointOfInterest', 'Other'), ('suralaga', 'PointOfInterest', 'Other'), (',', 'PointOfInterest', 'Street')]\n",
      "kuti panjunan kel. [('kuti', 'PointOfInterest', 'PointOfInterest'), ('panjunan', 'PointOfInterest', 'PointOfInterest'), ('kel.', 'PointOfInterest', 'PointOfInterest')]\n",
      "pinus pamulang timur kel. [('pinus', 'PointOfInterest', 'Other'), ('pamulang', 'PointOfInterest', 'Other'), ('timur', 'PointOfInterest', 'Other'), ('kel.', 'PointOfInterest', 'Other')]\n",
      "sandai kiri ist jaya sandai [('sandai', 'PointOfInterest', 'Other'), ('kiri', 'PointOfInterest', 'Other'), ('ist', 'PointOfInterest', 'Other'), ('jaya', 'PointOfInterest', 'Other'), ('sandai', 'PointOfInterest', 'PointOfInterest')]\n",
      "sukajadi raya merd 5 rt 2 1 15113 karawaci [('sukajadi', 'PointOfInterest', 'PointOfInterest'), ('raya', 'PointOfInterest', 'PointOfInterest'), ('merd', 'PointOfInterest', 'PointOfInterest'), ('5', 'PointOfInterest', 'Other'), ('rt', 'PointOfInterest', 'Other'), ('2', 'PointOfInterest', 'Other'), ('1', 'PointOfInterest', 'Other'), ('15113', 'PointOfInterest', 'Other'), ('karawaci', 'PointOfInterest', 'Other')]\n",
      "haji mahbbud 69 cipadu jaya rt 6 rw 4 larangan [('haji', 'PointOfInterest', 'Other'), ('mahbbud', 'PointOfInterest', 'Other'), ('69', 'PointOfInterest', 'Other'), ('cipadu', 'PointOfInterest', 'Other'), ('jaya', 'PointOfInterest', 'Other'), ('rt', 'PointOfInterest', 'Other'), ('6', 'PointOfInterest', 'Other'), ('rw', 'PointOfInterest', 'Other'), ('4', 'PointOfInterest', 'Other'), ('larangan', 'PointOfInterest', 'Other')]\n",
      "pakis 8 24 turida [('pakis', 'PointOfInterest', 'Street'), ('8', 'PointOfInterest', 'Street'), ('24', 'PointOfInterest', 'Street'), ('turida', 'PointOfInterest', 'Street')]\n",
      "asahan iv , 16 tanjung selamat sunggal [('asahan', 'PointOfInterest', 'Street'), ('iv', 'PointOfInterest', 'Street'), (',', 'PointOfInterest', 'Street'), ('16', 'PointOfInterest', 'PointOfInterest'), ('tanjung', 'PointOfInterest', 'Other'), ('selamat', 'PointOfInterest', 'Other'), ('sunggal', 'PointOfInterest', 'Other')]\n",
      "citayam seta 32 rt 2 rw 10 tajurhalang [('citayam', 'PointOfInterest', 'PointOfInterest'), ('seta', 'PointOfInterest', 'PointOfInterest'), ('32', 'PointOfInterest', 'PointOfInterest'), ('rt', 'PointOfInterest', 'Other'), ('2', 'PointOfInterest', 'Street'), ('rw', 'PointOfInterest', 'Street'), ('10', 'PointOfInterest', 'Street'), ('tajurhalang', 'PointOfInterest', 'Street')]\n",
      "meubel kawan , [('meubel', 'PointOfInterest', 'Other'), ('kawan', 'PointOfInterest', 'Other'), (',', 'PointOfInterest', 'Other')]\n",
      "dua semb , no 17 rw 16 duren sawit kel. duren sawit [('dua', 'PointOfInterest', 'Other'), ('semb', 'PointOfInterest', 'Other'), (',', 'PointOfInterest', 'Other'), ('no', 'PointOfInterest', 'Other'), ('17', 'PointOfInterest', 'Other'), ('rw', 'PointOfInterest', 'Other'), ('16', 'PointOfInterest', 'Other'), ('duren', 'PointOfInterest', 'Other'), ('sawit', 'PointOfInterest', 'Other'), ('kel.', 'PointOfInterest', 'Other'), ('duren', 'PointOfInterest', 'Other'), ('sawit', 'PointOfInterest', 'Other')]\n",
      "wisma tirta agung asri i gunung anyar tambak gununganyar [('wisma', 'PointOfInterest', 'PointOfInterest'), ('tirta', 'PointOfInterest', 'PointOfInterest'), ('agung', 'PointOfInterest', 'Other'), ('asri', 'PointOfInterest', 'Other'), ('i', 'PointOfInterest', 'Other'), ('gunung', 'PointOfInterest', 'Other'), ('anyar', 'EOS', 'Other'), ('tambak', 'EOS', 'Other'), ('gununganyar', 'EOS', 'Other')]\n"
     ]
    },
    {
     "name": "stdout",
     "output_type": "stream",
     "text": [
      "nasi iii 524 sukapura kiaracondong [('nasi', 'PointOfInterest', 'PointOfInterest'), ('iii', 'PointOfInterest', 'PointOfInterest'), ('524', 'PointOfInterest', 'PointOfInterest'), ('sukapura', 'PointOfInterest', 'PointOfInterest'), ('kiaracondong', 'PointOfInterest', 'PointOfInterest')]\n",
      "taipa kana 7 petobo palu selatan [('taipa', 'PointOfInterest', 'Other'), ('kana', 'PointOfInterest', 'Other'), ('7', 'PointOfInterest', 'Other'), ('petobo', 'PointOfInterest', 'Other'), ('palu', 'PointOfInterest', 'Other'), ('selatan', 'EOS', 'Other')]\n",
      "komplek bea cukai blok q 5 no 1 jl. sunda kelapa kel. sukapura [('komplek', 'PointOfInterest', 'Other'), ('bea', 'PointOfInterest', 'Other'), ('cukai', 'PointOfInterest', 'Other'), ('blok', 'PointOfInterest', 'Street'), ('q', 'PointOfInterest', 'Street'), ('5', 'PointOfInterest', 'Street'), ('no', 'PointOfInterest', 'Street'), ('1', 'PointOfInterest', 'Other'), ('jl.', 'PointOfInterest', 'Other'), ('sunda', 'PointOfInterest', 'Other'), ('kelapa', 'PointOfInterest', 'Other'), ('kel.', 'PointOfInterest', 'Other'), ('sukapura', 'PointOfInterest', 'Other')]\n",
      "ace hardware solo paragon jl yosodipuro no 133 kampung turisari kel mangkubumen [('ace', 'PointOfInterest', 'Other'), ('hardware', 'PointOfInterest', 'PointOfInterest'), ('solo', 'PointOfInterest', 'PointOfInterest'), ('paragon', 'PointOfInterest', 'Other'), ('jl', 'PointOfInterest', 'Other'), ('yosodipuro', 'PointOfInterest', 'Other'), ('no', 'PointOfInterest', 'Other'), ('133', 'PointOfInterest', 'Other'), ('kampung', 'PointOfInterest', 'Other'), ('turisari', 'PointOfInterest', 'Other'), ('kel', 'PointOfInterest', 'Other'), ('mangkubumen', 'PointOfInterest', 'Other')]\n",
      "arus jati 31 3 jatinegara kaum pulo gadung [('arus', 'PointOfInterest', 'Street'), ('jati', 'PointOfInterest', 'Street'), ('31', 'PointOfInterest', 'Street'), ('3', 'PointOfInterest', 'Other'), ('jatinegara', 'PointOfInterest', 'Other'), ('kaum', 'PointOfInterest', 'Other'), ('pulo', 'PointOfInterest', 'Other'), ('gadung', 'PointOfInterest', 'Other')]\n",
      "tupa no 331 nagasari kel. karawang barat [('tupa', 'PointOfInterest', 'Other'), ('no', 'PointOfInterest', 'Other'), ('331', 'PointOfInterest', 'Other'), ('nagasari', 'PointOfInterest', 'Other'), ('kel.', 'PointOfInterest', 'Other'), ('karawang', 'PointOfInterest', 'Other'), ('barat', 'PointOfInterest', 'Other')]\n",
      "boj per vi , [('boj', 'PointOfInterest', 'PointOfInterest'), ('per', 'PointOfInterest', 'PointOfInterest'), ('vi', 'PointOfInterest', 'Other'), (',', 'PointOfInterest', 'Other')]\n",
      "kelurahan bungo barat imam , 37212 pasar muara bungo [('kelurahan', 'PointOfInterest', 'Other'), ('bungo', 'PointOfInterest', 'Other'), ('barat', 'PointOfInterest', 'Other'), ('imam', 'PointOfInterest', 'Street'), (',', 'PointOfInterest', 'Street'), ('37212', 'PointOfInterest', 'Street'), ('pasar', 'PointOfInterest', 'Other'), ('muara', 'PointOfInterest', 'Other'), ('bungo', 'PointOfInterest', 'Other')]\n",
      "clus paris 38 rw 10 50276 [('clus', 'PointOfInterest', 'Other'), ('paris', 'PointOfInterest', 'PointOfInterest'), ('38', 'PointOfInterest', 'PointOfInterest'), ('rw', 'PointOfInterest', 'Other'), ('10', 'PointOfInterest', 'Other'), ('50276', 'PointOfInterest', 'Other')]\n",
      "nusa indah 3 nogotirto gamping [('nusa', 'PointOfInterest', 'Other'), ('indah', 'PointOfInterest', 'Street'), ('3', 'PointOfInterest', 'Street'), ('nogotirto', 'PointOfInterest', 'Street'), ('gamping', 'PointOfInterest', 'Street')]\n",
      "jend sudi ciamis [('jend', 'PointOfInterest', 'PointOfInterest'), ('sudi', 'PointOfInterest', 'PointOfInterest'), ('ciamis', 'PointOfInterest', 'Other')]\n",
      "indah tirta asih pt alam segar 9 , no 29 16 [('indah', 'PointOfInterest', 'PointOfInterest'), ('tirta', 'PointOfInterest', 'PointOfInterest'), ('asih', 'PointOfInterest', 'PointOfInterest'), ('pt', 'PointOfInterest', 'PointOfInterest'), ('alam', 'PointOfInterest', 'Street'), ('segar', 'PointOfInterest', 'Street'), ('9', 'PointOfInterest', 'Street'), (',', 'PointOfInterest', 'Other'), ('no', 'PointOfInterest', 'Other'), ('29', 'EOS', 'Other'), ('16', 'EOS', 'Other')]\n",
      "merak ii no 83 medan denai [('merak', 'PointOfInterest', 'Other'), ('ii', 'PointOfInterest', 'Other'), ('no', 'PointOfInterest', 'Other'), ('83', 'PointOfInterest', 'Other'), ('medan', 'PointOfInterest', 'Other'), ('denai', 'PointOfInterest', 'Other')]\n",
      "mekarsari komp perm jasi no a4 20 cimanggis [('mekarsari', 'PointOfInterest', 'PointOfInterest'), ('komp', 'PointOfInterest', 'PointOfInterest'), ('perm', 'PointOfInterest', 'Other'), ('jasi', 'PointOfInterest', 'Other'), ('no', 'PointOfInterest', 'Other'), ('a4', 'PointOfInterest', 'Other'), ('20', 'PointOfInterest', 'Other'), ('cimanggis', 'PointOfInterest', 'Other')]\n",
      "bidan sulia suwar ki ageng gir sing i siraman [('bidan', 'PointOfInterest', 'Other'), ('sulia', 'PointOfInterest', 'PointOfInterest'), ('suwar', 'PointOfInterest', 'PointOfInterest'), ('ki', 'PointOfInterest', 'PointOfInterest'), ('ageng', 'PointOfInterest', 'Other'), ('gir', 'PointOfInterest', 'Street'), ('sing', 'PointOfInterest', 'Street'), ('i', 'PointOfInterest', 'Street'), ('siraman', 'PointOfInterest', 'Other')]\n",
      "gg. regol sekeloa coblong [('gg.', 'PointOfInterest', 'Other'), ('regol', 'PointOfInterest', 'Other'), ('sekeloa', 'PointOfInterest', 'Other'), ('coblong', 'PointOfInterest', 'Other')]\n",
      "lamuri timb pt , tent pela , 68 baiturrahman [('lamuri', 'PointOfInterest', 'Street'), ('timb', 'PointOfInterest', 'Street'), ('pt', 'PointOfInterest', 'Street'), (',', 'PointOfInterest', 'Other'), ('tent', 'PointOfInterest', 'Other'), ('pela', 'PointOfInterest', 'Other'), (',', 'PointOfInterest', 'Other'), ('68', 'PointOfInterest', 'Other'), ('baiturrahman', 'PointOfInterest', 'Other')]\n",
      "kutoharjo gg. mager 59219 rembang [('kutoharjo', 'PointOfInterest', 'Other'), ('gg.', 'PointOfInterest', 'Other'), ('mager', 'PointOfInterest', 'Other'), ('59219', 'PointOfInterest', 'Other'), ('rembang', 'PointOfInterest', 'Other')]\n",
      "toko pak anwar raya dukuh ban , [('toko', 'PointOfInterest', 'Other'), ('pak', 'PointOfInterest', 'Other'), ('anwar', 'PointOfInterest', 'Other'), ('raya', 'PointOfInterest', 'Street'), ('dukuh', 'PointOfInterest', 'Street'), ('ban', 'PointOfInterest', 'Street'), (',', 'PointOfInterest', 'Other')]\n",
      "seni jati handicraft , putri tunggal , ciracas [('seni', 'PointOfInterest', 'PointOfInterest'), ('jati', 'PointOfInterest', 'PointOfInterest'), ('handicraft', 'PointOfInterest', 'PointOfInterest'), (',', 'PointOfInterest', 'PointOfInterest'), ('putri', 'PointOfInterest', 'PointOfInterest'), ('tunggal', 'PointOfInterest', 'Street'), (',', 'PointOfInterest', 'Street'), ('ciracas', 'PointOfInterest', 'Street')]\n",
      "q , kebon baru kel. tebet [('q', 'PointOfInterest', 'PointOfInterest'), (',', 'PointOfInterest', 'PointOfInterest'), ('kebon', 'PointOfInterest', 'PointOfInterest'), ('baru', 'PointOfInterest', 'Other'), ('kel.', 'PointOfInterest', 'Street'), ('tebet', 'PointOfInterest', 'Street')]\n",
      "gond 52 rt 1 10 mustika jaya [('gond', 'PointOfInterest', 'Street'), ('52', 'PointOfInterest', 'Street'), ('rt', 'PointOfInterest', 'Street'), ('1', 'PointOfInterest', 'Other'), ('10', 'PointOfInterest', 'Other'), ('mustika', 'PointOfInterest', 'PointOfInterest'), ('jaya', 'PointOfInterest', 'PointOfInterest')]\n",
      "bagan batu-b sumut matahari collection bahtera makmur [('bagan', 'PointOfInterest', 'Other'), ('batu-b', 'PointOfInterest', 'Other'), ('sumut', 'PointOfInterest', 'Other'), ('matahari', 'PointOfInterest', 'Other'), ('collection', 'PointOfInterest', 'Other'), ('bahtera', 'PointOfInterest', 'Other'), ('makmur', 'PointOfInterest', 'Other')]\n",
      "jatij 1 , 63 jatijajar rt 4 2 tapos [('jatij', 'PointOfInterest', 'Other'), ('1', 'PointOfInterest', 'Other'), (',', 'PointOfInterest', 'Other'), ('63', 'PointOfInterest', 'Other'), ('jatijajar', 'PointOfInterest', 'Other'), ('rt', 'PointOfInterest', 'Other'), ('4', 'PointOfInterest', 'Other'), ('2', 'PointOfInterest', 'Other'), ('tapos', 'PointOfInterest', 'Other')]\n",
      "cireundeu raya gun indah v 03 11 11 ciputat timur [('cireundeu', 'PointOfInterest', 'PointOfInterest'), ('raya', 'PointOfInterest', 'PointOfInterest'), ('gun', 'PointOfInterest', 'Street'), ('indah', 'PointOfInterest', 'Street'), ('v', 'PointOfInterest', 'Other'), ('03', 'PointOfInterest', 'Other'), ('11', 'PointOfInterest', 'Other'), ('11', 'PointOfInterest', 'Other'), ('ciputat', 'PointOfInterest', 'Other'), ('timur', 'PointOfInterest', 'Other')]\n"
     ]
    },
    {
     "name": "stdout",
     "output_type": "stream",
     "text": [
      "abadi 3 kota baru [('abadi', 'PointOfInterest', 'Other'), ('3', 'PointOfInterest', 'Other'), ('kota', 'PointOfInterest', 'Other'), ('baru', 'PointOfInterest', 'Other')]\n",
      "gaya baru , gadah mada , 38 palu barat [('gaya', 'PointOfInterest', 'Other'), ('baru', 'PointOfInterest', 'Other'), (',', 'PointOfInterest', 'Other'), ('gadah', 'PointOfInterest', 'Other'), ('mada', 'PointOfInterest', 'Other'), (',', 'PointOfInterest', 'Other'), ('38', 'PointOfInterest', 'Other'), ('palu', 'PointOfInterest', 'Other'), ('barat', 'PointOfInterest', 'Other')]\n",
      "bakti jaya melur iv 72 rw 6 16418 sukmajaya [('bakti', 'PointOfInterest', 'Other'), ('jaya', 'PointOfInterest', 'PointOfInterest'), ('melur', 'PointOfInterest', 'PointOfInterest'), ('iv', 'PointOfInterest', 'PointOfInterest'), ('72', 'PointOfInterest', 'Other'), ('rw', 'PointOfInterest', 'Other'), ('6', 'PointOfInterest', 'Other'), ('16418', 'EOS', 'Other'), ('sukmajaya', 'EOS', 'Other')]\n",
      "cluster udayana bumi indah [('cluster', 'PointOfInterest', 'Other'), ('udayana', 'PointOfInterest', 'PointOfInterest'), ('bumi', 'PointOfInterest', 'PointOfInterest'), ('indah', 'PointOfInterest', 'PointOfInterest')]\n",
      "smartpocket , bubu [('smartpocket', 'PointOfInterest', 'Street'), (',', 'PointOfInterest', 'Street'), ('bubu', 'PointOfInterest', 'Street')]\n",
      "swara asih , raya sesetan , [('swara', 'PointOfInterest', 'Other'), ('asih', 'PointOfInterest', 'Other'), (',', 'PointOfInterest', 'PointOfInterest'), ('raya', 'PointOfInterest', 'PointOfInterest'), ('sesetan', 'PointOfInterest', 'PointOfInterest'), (',', 'PointOfInterest', 'PointOfInterest')]\n",
      "ki ageng kutu , no 45 [('ki', 'PointOfInterest', 'Street'), ('ageng', 'PointOfInterest', 'Street'), ('kutu', 'PointOfInterest', 'Other'), (',', 'PointOfInterest', 'Other'), ('no', 'PointOfInterest', 'Other'), ('45', 'PointOfInterest', 'Other')]\n",
      "mie ayam joko , payu iv dauh puri kauh denpasar barat [('mie', 'PointOfInterest', 'PointOfInterest'), ('ayam', 'PointOfInterest', 'PointOfInterest'), ('joko', 'PointOfInterest', 'Other'), (',', 'PointOfInterest', 'Other'), ('payu', 'PointOfInterest', 'Other'), ('iv', 'PointOfInterest', 'Other'), ('dauh', 'EOS', 'Other'), ('puri', 'EOS', 'Other'), ('kauh', 'EOS', 'Other'), ('denpasar', 'EOS', 'Other'), ('barat', 'EOS', 'Other')]\n"
     ]
    },
    {
     "data": {
      "application/vnd.jupyter.widget-view+json": {
       "model_id": "9fdc7313cc8f4434be50f51db264d159",
       "version_major": 2,
       "version_minor": 0
      },
      "text/plain": [
       "  0%|          | 0/5903 [00:00<?, ?it/s]"
      ]
     },
     "metadata": {},
     "output_type": "display_data"
    },
    {
     "name": "stdout",
     "output_type": "stream",
     "text": [
      "bel i , [('bel', 'PointOfInterest', 'Other'), ('i', 'PointOfInterest', 'Other'), (',', 'PointOfInterest', 'Other')]\n",
      "babat war yogi 81 babat [('babat', 'PointOfInterest', 'Other'), ('war', 'PointOfInterest', 'Other'), ('yogi', 'PointOfInterest', 'Other'), ('81', 'PointOfInterest', 'Other'), ('babat', 'PointOfInterest', 'PointOfInterest')]\n",
      "kali samp 57118 pasar kliwon [('kali', 'PointOfInterest', 'Other'), ('samp', 'PointOfInterest', 'Other'), ('57118', 'PointOfInterest', 'Other'), ('pasar', 'PointOfInterest', 'Other'), ('kliwon', 'PointOfInterest', 'Other')]\n",
      "probo laras , kedungwinangun [('probo', 'PointOfInterest', 'Other'), ('laras', 'PointOfInterest', 'Other'), (',', 'PointOfInterest', 'Other'), ('kedungwinangun', 'PointOfInterest', 'Other')]\n",
      "jatiraden gg. gan 1 rt 2 8 17432 jati sampurna [('jatiraden', 'PointOfInterest', 'Other'), ('gg.', 'PointOfInterest', 'Other'), ('gan', 'PointOfInterest', 'PointOfInterest'), ('1', 'PointOfInterest', 'PointOfInterest'), ('rt', 'PointOfInterest', 'Other'), ('2', 'PointOfInterest', 'Other'), ('8', 'PointOfInterest', 'Street'), ('17432', 'PointOfInterest', 'Street'), ('jati', 'PointOfInterest', 'Street'), ('sampurna', 'PointOfInterest', 'Other')]\n",
      "ahmad yani 37 martapura kota [('ahmad', 'PointOfInterest', 'Street'), ('yani', 'PointOfInterest', 'Street'), ('37', 'PointOfInterest', 'PointOfInterest'), ('martapura', 'PointOfInterest', 'PointOfInterest'), ('kota', 'PointOfInterest', 'PointOfInterest')]\n",
      "kenc raya no 15 cibadak rt 4 11 tanah sereal [('kenc', 'PointOfInterest', 'PointOfInterest'), ('raya', 'PointOfInterest', 'PointOfInterest'), ('no', 'PointOfInterest', 'PointOfInterest'), ('15', 'PointOfInterest', 'Street'), ('cibadak', 'PointOfInterest', 'Street'), ('rt', 'PointOfInterest', 'Street'), ('4', 'PointOfInterest', 'Other'), ('11', 'PointOfInterest', 'Other'), ('tanah', 'PointOfInterest', 'Other'), ('sereal', 'PointOfInterest', 'Other')]\n",
      "perumahan bumi asri cihanjuang blok b no 43 rt 03 rw 06 [('perumahan', 'PointOfInterest', 'Other'), ('bumi', 'PointOfInterest', 'Other'), ('asri', 'PointOfInterest', 'Other'), ('cihanjuang', 'PointOfInterest', 'PointOfInterest'), ('blok', 'PointOfInterest', 'PointOfInterest'), ('b', 'PointOfInterest', 'Other'), ('no', 'PointOfInterest', 'Other'), ('43', 'EOS', 'Other'), ('rt', 'EOS', 'Other'), ('03', 'EOS', 'Other'), ('rw', 'EOS', 'Other'), ('06', 'EOS', 'Other')]\n",
      "abadijaya pro 7 sukmajaya [('abadijaya', 'PointOfInterest', 'Other'), ('pro', 'PointOfInterest', 'Other'), ('7', 'PointOfInterest', 'Other'), ('sukmajaya', 'PointOfInterest', 'Other')]\n",
      "lawang seke iii , no 18 rw 15 [('lawang', 'PointOfInterest', 'PointOfInterest'), ('seke', 'PointOfInterest', 'PointOfInterest'), ('iii', 'PointOfInterest', 'PointOfInterest'), (',', 'PointOfInterest', 'PointOfInterest'), ('no', 'PointOfInterest', 'Other'), ('18', 'PointOfInterest', 'Other'), ('rw', 'PointOfInterest', 'Other'), ('15', 'EOS', 'Other')]\n",
      "emb sury 65 sambutan sambutan [('emb', 'PointOfInterest', 'Street'), ('sury', 'PointOfInterest', 'Street'), ('65', 'PointOfInterest', 'Street'), ('sambutan', 'PointOfInterest', 'Street'), ('sambutan', 'PointOfInterest', 'PointOfInterest')]\n",
      "taman mini i , no 1 b fit , rw 2 makasar [('taman', 'PointOfInterest', 'Other'), ('mini', 'PointOfInterest', 'Other'), ('i', 'PointOfInterest', 'Other'), (',', 'PointOfInterest', 'Other'), ('no', 'PointOfInterest', 'Other'), ('1', 'PointOfInterest', 'Other'), ('b', 'PointOfInterest', 'Other'), ('fit', 'PointOfInterest', 'Other'), (',', 'PointOfInterest', 'Other'), ('rw', 'PointOfInterest', 'Other'), ('2', 'PointOfInterest', 'Other'), ('makasar', 'PointOfInterest', 'Other')]\n",
      "kina tengkerang utara bukit raya [('kina', 'PointOfInterest', 'Other'), ('tengkerang', 'PointOfInterest', 'Other'), ('utara', 'PointOfInterest', 'Other'), ('bukit', 'PointOfInterest', 'Other'), ('raya', 'PointOfInterest', 'Other')]\n",
      "serua mera 1038 16 ciputat [('serua', 'PointOfInterest', 'Other'), ('mera', 'PointOfInterest', 'Other'), ('1038', 'PointOfInterest', 'Other'), ('16', 'PointOfInterest', 'Other'), ('ciputat', 'PointOfInterest', 'Street')]\n",
      "kis. mang 14 jati baru padang timur [('kis.', 'PointOfInterest', 'PointOfInterest'), ('mang', 'PointOfInterest', 'PointOfInterest'), ('14', 'PointOfInterest', 'Other'), ('jati', 'PointOfInterest', 'Street'), ('baru', 'PointOfInterest', 'Street'), ('padang', 'PointOfInterest', 'Street'), ('timur', 'PointOfInterest', 'Other')]\n",
      "susu racek mbok darmi , kipas pis palam , no 31 lowokwaru [('susu', 'PointOfInterest', 'Other'), ('racek', 'PointOfInterest', 'Other'), ('mbok', 'PointOfInterest', 'Street'), ('darmi', 'PointOfInterest', 'Street'), (',', 'PointOfInterest', 'Street'), ('kipas', 'PointOfInterest', 'Street'), ('pis', 'PointOfInterest', 'Other'), ('palam', 'EOS', 'Other'), (',', 'EOS', 'Other'), ('no', 'EOS', 'Other'), ('31', 'EOS', 'Other'), ('lowokwaru', 'EOS', 'Other')]\n",
      "amuntai tengah , hulu sungai utara , kalimantan selatan , turunan jembatan banua lima , [('amuntai', 'PointOfInterest', 'Other'), ('tengah', 'PointOfInterest', 'Other'), (',', 'PointOfInterest', 'Other'), ('hulu', 'PointOfInterest', 'Other'), ('sungai', 'PointOfInterest', 'Other'), ('utara', 'PointOfInterest', 'Other'), (',', 'EOS', 'Other'), ('kalimantan', 'EOS', 'Other'), ('selatan', 'EOS', 'Other'), (',', 'EOS', 'Other'), ('turunan', 'EOS', 'Other'), ('jembatan', 'EOS', 'PointOfInterest'), ('banua', 'PointOfInterest', 'PointOfInterest'), ('lima', 'PointOfInterest', 'PointOfInterest'), (',', 'PointOfInterest', 'Other')]\n",
      "nn 2 rt 3 rw 3 batuceper [('nn', 'PointOfInterest', 'Other'), ('2', 'PointOfInterest', 'Other'), ('rt', 'PointOfInterest', 'Other'), ('3', 'PointOfInterest', 'Other'), ('rw', 'PointOfInterest', 'Street'), ('3', 'PointOfInterest', 'Street'), ('batuceper', 'PointOfInterest', 'Street')]\n",
      "jatirahayu jl. pat jaya iv a 78 rt 2 13 [('jatirahayu', 'PointOfInterest', 'Other'), ('jl.', 'PointOfInterest', 'Other'), ('pat', 'PointOfInterest', 'Other'), ('jaya', 'PointOfInterest', 'Other'), ('iv', 'PointOfInterest', 'Other'), ('a', 'PointOfInterest', 'Other'), ('78', 'PointOfInterest', 'Other'), ('rt', 'PointOfInterest', 'Other'), ('2', 'PointOfInterest', 'Other'), ('13', 'PointOfInterest', 'Other')]\n",
      "sd negeri sigit 3 , [('sd', 'PointOfInterest', 'PointOfInterest'), ('negeri', 'PointOfInterest', 'PointOfInterest'), ('sigit', 'PointOfInterest', 'Street'), ('3', 'PointOfInterest', 'Street'), (',', 'PointOfInterest', 'Other')]\n",
      "mendawai kelompok tani dayak misik , pangeran anta 27 74115 arut selatan [('mendawai', 'PointOfInterest', 'Street'), ('kelompok', 'PointOfInterest', 'Street'), ('tani', 'PointOfInterest', 'Street'), ('dayak', 'PointOfInterest', 'Other'), ('misik', 'PointOfInterest', 'Other'), (',', 'PointOfInterest', 'Other'), ('pangeran', 'EOS', 'Other'), ('anta', 'EOS', 'Other'), ('27', 'EOS', 'Other'), ('74115', 'EOS', 'PointOfInterest'), ('arut', 'PointOfInterest', 'PointOfInterest'), ('selatan', 'PointOfInterest', 'Other')]\n",
      "sumb tanah tinggi johar baru [('sumb', 'PointOfInterest', 'Other'), ('tanah', 'PointOfInterest', 'Other'), ('tinggi', 'PointOfInterest', 'PointOfInterest'), ('johar', 'PointOfInterest', 'PointOfInterest'), ('baru', 'PointOfInterest', 'Other')]\n",
      "lau dalam kartini sawah besar [('lau', 'PointOfInterest', 'Other'), ('dalam', 'PointOfInterest', 'Other'), ('kartini', 'PointOfInterest', 'Other'), ('sawah', 'PointOfInterest', 'Other'), ('besar', 'PointOfInterest', 'Other')]\n",
      "buring , no 58 [('buring', 'PointOfInterest', 'PointOfInterest'), (',', 'PointOfInterest', 'PointOfInterest'), ('no', 'PointOfInterest', 'PointOfInterest'), ('58', 'PointOfInterest', 'Other')]\n",
      "gg. i c 40 gading rw 3 tambaksari [('gg.', 'PointOfInterest', 'PointOfInterest'), ('i', 'PointOfInterest', 'PointOfInterest'), ('c', 'PointOfInterest', 'PointOfInterest'), ('40', 'PointOfInterest', 'Other'), ('gading', 'PointOfInterest', 'Other'), ('rw', 'PointOfInterest', 'Other'), ('3', 'PointOfInterest', 'Other'), ('tambaksari', 'PointOfInterest', 'Other')]\n"
     ]
    }
   ],
   "source": [
    "for epoch in range(10):\n",
    "    for idx, batch in enumerate(tqdm(data_loader)):\n",
    "        raw, batch = batch\n",
    "        padded_input, padded_target = bpemb_data_padding_with_target(batch)\n",
    "        padded_input = (padded_input[0].to(device), \n",
    "                        padded_input[1], \n",
    "                        padded_input[2].to(device))\n",
    "        padded_target = padded_target.to(device)\n",
    "        model.zero_grad()\n",
    "\n",
    "        predictions = model(*padded_input, padded_target)\n",
    "        predictions = predictions.permute(1, 2, 0)\n",
    "        loss = loss_fn(predictions, padded_target)\n",
    "\n",
    "        loss.backward()\n",
    "        optimizer.step()\n",
    "        counter += 1\n",
    "\n",
    "        writer.add_scalar(\"Loss/train\", loss, counter)\n",
    "\n",
    "        if counter % 100 == 0:\n",
    "            TEST_IDX = 0\n",
    "            sample_raw = raw[TEST_IDX].split()\n",
    "            sample_pred = predictions[TEST_IDX].transpose(0,1).argmax(dim=1).detach().cpu().numpy()\n",
    "            sample_pred_string = [tags_converter(x) for x in sample_pred]\n",
    "            sample_target = padded_target[TEST_IDX].detach().cpu().numpy()\n",
    "            sample_target_string = [tags_converter(x) for x in sample_target]\n",
    "            compact = list(zip(sample_raw, sample_pred_string, sample_target_string))\n",
    "            print(raw[TEST_IDX], compact)\n",
    "            \n",
    "    lr_scheduler.step()"
   ]
  },
  {
   "cell_type": "code",
   "execution_count": 284,
   "id": "blessed-capitol",
   "metadata": {
    "ExecuteTime": {
     "end_time": "2021-03-14T17:36:09.925231Z",
     "start_time": "2021-03-14T17:36:09.923008Z"
    }
   },
   "outputs": [],
   "source": [
    "validation = True"
   ]
  },
  {
   "cell_type": "code",
   "execution_count": 285,
   "id": "designing-scientist",
   "metadata": {
    "ExecuteTime": {
     "end_time": "2021-03-14T17:36:10.245923Z",
     "start_time": "2021-03-14T17:36:10.164974Z"
    }
   },
   "outputs": [],
   "source": [
    "test_data = pd.read_csv(\"./scl-2021-ds/valid_split.csv\")"
   ]
  },
  {
   "cell_type": "code",
   "execution_count": 198,
   "id": "floating-lancaster",
   "metadata": {
    "ExecuteTime": {
     "end_time": "2021-03-14T14:44:53.364179Z",
     "start_time": "2021-03-14T14:44:53.362013Z"
    }
   },
   "outputs": [],
   "source": []
  },
  {
   "cell_type": "code",
   "execution_count": 217,
   "id": "false-spending",
   "metadata": {
    "ExecuteTime": {
     "end_time": "2021-03-14T14:49:25.540496Z",
     "start_time": "2021-03-14T14:49:23.307150Z"
    }
   },
   "outputs": [
    {
     "name": "stdout",
     "output_type": "stream",
     "text": [
      "Loading the embeddings model\n"
     ]
    }
   ],
   "source": [
    "from deepparse.parser import AddressParser\n",
    "address_parser = AddressParser(model_type=\"bpemb\", device=0)"
   ]
  },
  {
   "cell_type": "code",
   "execution_count": 239,
   "id": "color-lesbian",
   "metadata": {
    "ExecuteTime": {
     "end_time": "2021-03-14T14:56:28.749082Z",
     "start_time": "2021-03-14T14:56:28.745330Z"
    }
   },
   "outputs": [],
   "source": [
    "def almost_correct(str1, str2):\n",
    "    def levenshtein(seq1, seq2):\n",
    "        size_x = len(seq1) + 1\n",
    "        size_y = len(seq2) + 1\n",
    "        matrix = np.zeros ((size_x, size_y))\n",
    "        for x in range(size_x):\n",
    "            matrix [x, 0] = x\n",
    "        for y in range(size_y):\n",
    "            matrix [0, y] = y\n",
    "\n",
    "        for x in range(1, size_x):\n",
    "            for y in range(1, size_y):\n",
    "                if seq1[x-1] == seq2[y-1]:\n",
    "                    matrix [x,y] = min(\n",
    "                        matrix[x-1, y] + 1,\n",
    "                        matrix[x-1, y-1],\n",
    "                        matrix[x, y-1] + 1\n",
    "                    )\n",
    "                else:\n",
    "                    matrix [x,y] = min(\n",
    "                        matrix[x-1,y] + 1,\n",
    "                        matrix[x-1,y-1] + 1,\n",
    "                        matrix[x,y-1] + 1\n",
    "                    )\n",
    "                    \n",
    "        return (matrix[size_x - 1, size_y - 1])\n",
    "    \n",
    "    max_length = max(len(str1), len(str2))\n",
    "    levenshtein_dist = levenshtein(str1, str2)\n",
    "    normalized_score = (max_length - levenshtein_dist) / max_length\n",
    "    return normalized_score"
   ]
  },
  {
   "cell_type": "code",
<<<<<<< HEAD
   "execution_count": 240,
   "id": "outside-transcript",
=======
   "execution_count": null,
   "metadata": {},
   "outputs": [],
   "source": [
    "def sanitize(row):\n",
    "    raw_address = row['raw_address']\n",
    "    sanitized_raw_address = raw_address.replace(',', ' ,')\n",
    "    return sanitized_raw_address\n",
    "test_data['sanitized_raw_address'] = test_data.apply(sanitize, axis=1)"
   ]
  },
  {
   "cell_type": "code",
   "execution_count": 123,
   "id": "convenient-captain",
>>>>>>> c0a7f4dd9564ac2fb0ca70a9c93793c5d9e6d3d1
   "metadata": {
    "ExecuteTime": {
     "end_time": "2021-03-14T14:56:29.144544Z",
     "start_time": "2021-03-14T14:56:29.139946Z"
    }
   },
   "outputs": [
    {
     "data": {
      "text/plain": [
       "0.8695652173913043"
      ]
     },
     "execution_count": 240,
     "metadata": {},
     "output_type": "execute_result"
    }
   ],
   "source": [
    "almost_correct(\"pt alexindo/raya naro\",\"/pt alexindo raya naro,\")"
   ]
  },
  {
   "cell_type": "code",
   "execution_count": 286,
   "id": "loved-lying",
   "metadata": {
    "ExecuteTime": {
     "end_time": "2021-03-14T17:36:13.331584Z",
     "start_time": "2021-03-14T17:36:13.312397Z"
    }
   },
   "outputs": [
    {
     "data": {
      "application/vnd.jupyter.widget-view+json": {
       "model_id": "852182cc2ee24d6cb039518d53b3eb7d",
       "version_major": 2,
       "version_minor": 0
      },
      "text/plain": [
       "  0%|          | 0/60000 [00:00<?, ?it/s]"
      ]
     },
     "metadata": {},
     "output_type": "display_data"
    }
   ],
   "source": [
    "pbar = tqdm(test_data.iterrows(), total=len(test_data))"
   ]
  },
  {
   "cell_type": "code",
   "execution_count": 287,
   "id": "joined-principle",
   "metadata": {
    "ExecuteTime": {
     "end_time": "2021-03-14T17:36:28.490302Z",
     "start_time": "2021-03-14T17:36:13.689826Z"
    },
    "scrolled": true
   },
   "outputs": [
    {
     "ename": "KeyboardInterrupt",
     "evalue": "",
     "output_type": "error",
     "traceback": [
      "\u001b[0;31m---------------------------------------------------------------------------\u001b[0m",
      "\u001b[0;31mKeyboardInterrupt\u001b[0m                         Traceback (most recent call last)",
      "\u001b[0;32m<ipython-input-287-7c181ff8891a>\u001b[0m in \u001b[0;36m<module>\u001b[0;34m\u001b[0m\n\u001b[1;32m     17\u001b[0m \u001b[0;34m\u001b[0m\u001b[0m\n\u001b[1;32m     18\u001b[0m     \u001b[0mpred\u001b[0m \u001b[0;34m=\u001b[0m \u001b[0mmodel\u001b[0m\u001b[0;34m(\u001b[0m\u001b[0;34m*\u001b[0m\u001b[0mpadded\u001b[0m\u001b[0;34m)\u001b[0m\u001b[0;34m\u001b[0m\u001b[0;34m\u001b[0m\u001b[0m\n\u001b[0;32m---> 19\u001b[0;31m     \u001b[0mtags_predictions\u001b[0m \u001b[0;34m=\u001b[0m \u001b[0mpred\u001b[0m\u001b[0;34m.\u001b[0m\u001b[0mmax\u001b[0m\u001b[0;34m(\u001b[0m\u001b[0;36m2\u001b[0m\u001b[0;34m)\u001b[0m\u001b[0;34m[\u001b[0m\u001b[0;36m1\u001b[0m\u001b[0;34m]\u001b[0m\u001b[0;34m.\u001b[0m\u001b[0mtranspose\u001b[0m\u001b[0;34m(\u001b[0m\u001b[0;36m0\u001b[0m\u001b[0;34m,\u001b[0m \u001b[0;36m1\u001b[0m\u001b[0;34m)\u001b[0m\u001b[0;34m.\u001b[0m\u001b[0mcpu\u001b[0m\u001b[0;34m(\u001b[0m\u001b[0;34m)\u001b[0m\u001b[0;34m.\u001b[0m\u001b[0mnumpy\u001b[0m\u001b[0;34m(\u001b[0m\u001b[0;34m)\u001b[0m\u001b[0;34m[\u001b[0m\u001b[0;36m0\u001b[0m\u001b[0;34m]\u001b[0m\u001b[0;34m\u001b[0m\u001b[0;34m\u001b[0m\u001b[0m\n\u001b[0m\u001b[1;32m     20\u001b[0m \u001b[0;34m\u001b[0m\u001b[0m\n\u001b[1;32m     21\u001b[0m     \u001b[0mtokens\u001b[0m \u001b[0;34m=\u001b[0m \u001b[0mraw_address\u001b[0m\u001b[0;34m.\u001b[0m\u001b[0msplit\u001b[0m\u001b[0;34m(\u001b[0m\u001b[0;34m)\u001b[0m\u001b[0;34m\u001b[0m\u001b[0;34m\u001b[0m\u001b[0m\n",
      "\u001b[0;31mKeyboardInterrupt\u001b[0m: "
     ]
    }
   ],
   "source": [
<<<<<<< HEAD
    "n_correct = 0\n",
    "n_correct_only_POI = 0\n",
    "n_correct_only_street = 0\n",
    "n_almost_correct = 0\n",
    "n_all = 0\n",
    "\n",
    "for row in pbar:\n",
    "    raw_address = row[1]['raw_address']\n",
    "    \n",
    "    ### Ours\n",
=======
    "for _, row in pbar:\n",
    "    sanitized_raw_address = row['sanitized_raw_address']\n",
    "    target = row['POI/street']\n",
>>>>>>> c0a7f4dd9564ac2fb0ca70a9c93793c5d9e6d3d1
    "    emb = vectorizer([raw_address])\n",
    "    padded = bpemb_data_padding(emb)\n",
    "    \n",
    "    padded = (padded[0].to(device), \n",
    "              padded[1], \n",
    "              padded[2].to(device))\n",
    "    \n",
    "    pred = model(*padded)\n",
    "    tags_predictions = pred.max(2)[1].transpose(0, 1).cpu().numpy()[0]\n",
    "    \n",
    "    tokens = sanitized_raw_address.split()\n",
    "    pred_POI = []\n",
    "    pred_Street = []\n",
    "    for (token, pred) in zip(tokens, tags_predictions):\n",
    "        if pred == 0: \n",
    "            pred_POI.append(token)\n",
    "        elif pred == 1:\n",
    "            pred_Street.append(token)\n",
    "            \n",
    "    pred_POI = ' '.join(pred_POI)\n",
    "    pred_Street = ' '.join(pred_Street)\n",
    "    output = f'{pred_POI}/{pred_Street}'\n",
    "    \n",
    "    ### Baseline\n",
    "#     parsed_address = address_parser(raw_address)\n",
    "#     pred_POI = ''\n",
    "#     pred_Street = parsed_address.street_name\n",
    "#     if pred_Street is None:\n",
    "#         pred_Street = ''\n",
    "#     output = f'{pred_POI}/{pred_Street}'\n",
    "    \n",
    "    test_data.at[row[0], 'output'] = output\n",
    "\n",
    "    if validation:\n",
    "        target = row[1]['POI/street']\n",
    "        n_correct += (output == target)\n",
    "        n_correct_only_POI += (pred_POI == target.split('/')[0])\n",
    "        n_correct_only_street += (pred_Street == target.split('/')[1])\n",
    "        n_almost_correct += (almost_correct(output, target) >= 0.8)\n",
    "        n_all += 1\n",
    "\n",
    "        acc = (n_correct / n_all)\n",
    "        acc_POI = (n_correct_only_POI / n_all)\n",
    "        acc_street = (n_correct_only_street / n_all)\n",
    "        acc_almost = (n_almost_correct / n_all)\n",
    "        pbar.set_description(f\"acc={acc:.3f} acc_POI={acc_POI:.3f} acc_street={acc_street:.3f} acc_almost={acc_almost:.3f}\")\n",
    "        "
   ]
  },
  {
   "cell_type": "code",
   "execution_count": 288,
   "id": "statutory-andorra",
   "metadata": {
    "ExecuteTime": {
     "end_time": "2021-03-14T17:36:31.484912Z",
     "start_time": "2021-03-14T17:36:31.472916Z"
    },
    "scrolled": true
   },
   "outputs": [
    {
     "data": {
      "text/html": [
       "<div>\n",
       "<style scoped>\n",
       "    .dataframe tbody tr th:only-of-type {\n",
       "        vertical-align: middle;\n",
       "    }\n",
       "\n",
       "    .dataframe tbody tr th {\n",
       "        vertical-align: top;\n",
       "    }\n",
       "\n",
       "    .dataframe thead th {\n",
       "        text-align: right;\n",
       "    }\n",
       "</style>\n",
       "<table border=\"1\" class=\"dataframe\">\n",
       "  <thead>\n",
       "    <tr style=\"text-align: right;\">\n",
       "      <th></th>\n",
       "      <th>Unnamed: 0</th>\n",
       "      <th>id</th>\n",
       "      <th>raw_address</th>\n",
       "      <th>POI/street</th>\n",
       "      <th>output</th>\n",
       "    </tr>\n",
       "  </thead>\n",
       "  <tbody>\n",
       "    <tr>\n",
       "      <th>100</th>\n",
       "      <td>239756</td>\n",
       "      <td>239756</td>\n",
       "      <td>pt alexindo raya naro, 177a 17174 rawalumbu</td>\n",
       "      <td>pt alexindo/raya naro</td>\n",
       "      <td>/pt alexindo</td>\n",
       "    </tr>\n",
       "    <tr>\n",
       "      <th>101</th>\n",
       "      <td>88020</td>\n",
       "      <td>88020</td>\n",
       "      <td>cengkareng barat nirm raya rt 6 2 kalideres</td>\n",
       "      <td>/</td>\n",
       "      <td>/cengkareng barat</td>\n",
       "    </tr>\n",
       "    <tr>\n",
       "      <th>102</th>\n",
       "      <td>23000</td>\n",
       "      <td>23000</td>\n",
       "      <td>bubur ayam memanggil, klam, 20 76126</td>\n",
       "      <td>/</td>\n",
       "      <td>/bubur</td>\n",
       "    </tr>\n",
       "    <tr>\n",
       "      <th>103</th>\n",
       "      <td>161082</td>\n",
       "      <td>161082</td>\n",
       "      <td>setia budi no 223</td>\n",
       "      <td>/setia budi</td>\n",
       "      <td>/setia</td>\n",
       "    </tr>\n",
       "    <tr>\n",
       "      <th>104</th>\n",
       "      <td>79891</td>\n",
       "      <td>79891</td>\n",
       "      <td>teuku cik dit, 23 pesantunan wanasari</td>\n",
       "      <td>/teuku cik dit</td>\n",
       "      <td>/teuku</td>\n",
       "    </tr>\n",
       "    <tr>\n",
       "      <th>...</th>\n",
       "      <td>...</td>\n",
       "      <td>...</td>\n",
       "      <td>...</td>\n",
       "      <td>...</td>\n",
       "      <td>...</td>\n",
       "    </tr>\n",
       "    <tr>\n",
       "      <th>195</th>\n",
       "      <td>286893</td>\n",
       "      <td>286893</td>\n",
       "      <td>milal, medan johor</td>\n",
       "      <td>/</td>\n",
       "      <td>/milal,</td>\n",
       "    </tr>\n",
       "    <tr>\n",
       "      <th>196</th>\n",
       "      <td>48644</td>\n",
       "      <td>48644</td>\n",
       "      <td>gg. ii no 187 palangka</td>\n",
       "      <td>/gg. ii</td>\n",
       "      <td>/gg.</td>\n",
       "    </tr>\n",
       "    <tr>\n",
       "      <th>197</th>\n",
       "      <td>97385</td>\n",
       "      <td>97385</td>\n",
       "      <td>sekar tunj xviii a  2 kesiman kertalangu</td>\n",
       "      <td>/sekar tunj xviii</td>\n",
       "      <td>/sekar</td>\n",
       "    </tr>\n",
       "    <tr>\n",
       "      <th>198</th>\n",
       "      <td>132629</td>\n",
       "      <td>132629</td>\n",
       "      <td>smp islam al bayyinah makassar,</td>\n",
       "      <td>smp islam al bayyinah makassar/</td>\n",
       "      <td>/smp</td>\n",
       "    </tr>\n",
       "    <tr>\n",
       "      <th>199</th>\n",
       "      <td>127931</td>\n",
       "      <td>127931</td>\n",
       "      <td>beng knal panca lin, duren sawit, duren sawit</td>\n",
       "      <td>bengkel knalpot panca lingga/duren sawit</td>\n",
       "      <td>/beng knal</td>\n",
       "    </tr>\n",
       "  </tbody>\n",
       "</table>\n",
       "<p>100 rows × 5 columns</p>\n",
       "</div>"
      ],
      "text/plain": [
       "     Unnamed: 0      id                                    raw_address  \\\n",
       "100      239756  239756    pt alexindo raya naro, 177a 17174 rawalumbu   \n",
       "101       88020   88020    cengkareng barat nirm raya rt 6 2 kalideres   \n",
       "102       23000   23000           bubur ayam memanggil, klam, 20 76126   \n",
       "103      161082  161082                              setia budi no 223   \n",
       "104       79891   79891          teuku cik dit, 23 pesantunan wanasari   \n",
       "..          ...     ...                                            ...   \n",
       "195      286893  286893                             milal, medan johor   \n",
       "196       48644   48644                         gg. ii no 187 palangka   \n",
       "197       97385   97385       sekar tunj xviii a  2 kesiman kertalangu   \n",
       "198      132629  132629                smp islam al bayyinah makassar,   \n",
       "199      127931  127931  beng knal panca lin, duren sawit, duren sawit   \n",
       "\n",
       "                                   POI/street             output  \n",
       "100                     pt alexindo/raya naro       /pt alexindo  \n",
       "101                                         /  /cengkareng barat  \n",
       "102                                         /             /bubur  \n",
       "103                               /setia budi             /setia  \n",
       "104                            /teuku cik dit             /teuku  \n",
       "..                                        ...                ...  \n",
       "195                                         /            /milal,  \n",
       "196                                   /gg. ii               /gg.  \n",
       "197                         /sekar tunj xviii             /sekar  \n",
       "198           smp islam al bayyinah makassar/               /smp  \n",
       "199  bengkel knalpot panca lingga/duren sawit         /beng knal  \n",
       "\n",
       "[100 rows x 5 columns]"
      ]
     },
     "execution_count": 288,
     "metadata": {},
     "output_type": "execute_result"
    }
   ],
   "source": [
    "test_data[100:200]"
   ]
  },
  {
   "cell_type": "code",
   "execution_count": 215,
   "id": "several-miracle",
   "metadata": {
    "ExecuteTime": {
     "end_time": "2021-03-14T14:48:35.841298Z",
     "start_time": "2021-03-14T14:48:35.837974Z"
    }
   },
   "outputs": [
    {
     "data": {
      "text/plain": [
       "ParsedAddress<street_name='lin timur keri, pecal', municipality='lele seaf rasa, pangkalan kerinci'>"
      ]
     },
     "execution_count": 215,
     "metadata": {},
     "output_type": "execute_result"
    }
   ],
   "source": [
    "parsed_address"
   ]
  },
  {
   "cell_type": "code",
   "execution_count": null,
   "id": "substantial-celebrity",
   "metadata": {},
   "outputs": [],
   "source": []
  }
 ],
 "metadata": {
  "kernelspec": {
   "display_name": "Python 3",
   "language": "python",
   "name": "python3"
  },
  "language_info": {
   "codemirror_mode": {
    "name": "ipython",
    "version": 3
   },
   "file_extension": ".py",
   "mimetype": "text/x-python",
   "name": "python",
   "nbconvert_exporter": "python",
   "pygments_lexer": "ipython3",
   "version": "3.8.8"
  },
  "latex_envs": {
   "LaTeX_envs_menu_present": true,
   "autoclose": false,
   "autocomplete": true,
   "bibliofile": "biblio.bib",
   "cite_by": "apalike",
   "current_citInitial": 1,
   "eqLabelWithNumbers": true,
   "eqNumInitial": 1,
   "hotkeys": {
    "equation": "Ctrl-E",
    "itemize": "Ctrl-I"
   },
   "labels_anchors": false,
   "latex_user_defs": false,
   "report_style_numbering": false,
   "user_envs_cfg": false
  },
  "toc": {
   "base_numbering": 1,
   "nav_menu": {},
   "number_sections": true,
   "sideBar": true,
   "skip_h1_title": false,
   "title_cell": "Table of Contents",
   "title_sidebar": "Contents",
   "toc_cell": false,
   "toc_position": {},
   "toc_section_display": true,
   "toc_window_display": false
  }
 },
 "nbformat": 4,
 "nbformat_minor": 5
}